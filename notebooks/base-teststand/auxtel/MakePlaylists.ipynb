{
 "cells": [
  {
   "cell_type": "markdown",
   "id": "79ccce27-6002-4c8f-8344-e065336498bf",
   "metadata": {},
   "source": [
    "# Generate ATCamera Playlists for the Base Teststand"
   ]
  },
  {
   "cell_type": "code",
   "execution_count": null,
   "id": "9d5eaece-06f8-4fcd-98e1-023242be928c",
   "metadata": {
    "tags": []
   },
   "outputs": [],
   "source": [
    "import asyncio\n",
    "import logging\n",
    "import sys\n",
    "\n",
    "from lsst.ts import salobj\n",
    "from lsst.sitcom.mareuter.playlist_info.auxtel import BTS_PLAYLISTS"
   ]
  },
  {
   "cell_type": "code",
   "execution_count": null,
   "id": "f9d4ec70-26f6-474c-b3fc-94685b01c66d",
   "metadata": {},
   "outputs": [],
   "source": [
    "domain = salobj.Domain()\n",
    "await asyncio.sleep(10)"
   ]
  },
  {
   "cell_type": "code",
   "execution_count": null,
   "id": "006acfa5-692b-4575-b06f-3f760e833ad7",
   "metadata": {},
   "outputs": [],
   "source": [
    "ATCamera = salobj.Remote(domain, 'ATCamera')\n",
    "await ATCamera.start_task"
   ]
  },
  {
   "cell_type": "code",
   "execution_count": null,
   "id": "3b273b7d-3481-4407-9367-c57f38249ffb",
   "metadata": {
    "tags": []
   },
   "outputs": [],
   "source": [
    "# Create default playlist\n",
    "playlist = BTS_PLAYLISTS[\"default\"]\n",
    "ack = await ATCamera.cmd_playlist.set_start(playlist=\"default\",\n",
    "                                            folder=playlist.daq_folder,\n",
    "                                            images=playlist.get_image_names_as_string(),\n",
    "                                            timeout=60)\n",
    "print(ack)"
   ]
  },
  {
   "cell_type": "code",
   "execution_count": null,
   "id": "d6abc031-d463-49b8-95b4-86f5e2fb2789",
   "metadata": {
    "tags": []
   },
   "outputs": [],
   "source": [
    "# Create bias playlist\n",
    "playlist = BTS_PLAYLISTS[\"bias\"]\n",
    "ack = await ATCamera.cmd_playlist.set_start(playlist=\"bias\",\n",
    "                                            folder=playlist.daq_folder,\n",
    "                                            images=playlist.get_image_names_as_string(),\n",
    "                                            timeout=60)\n",
    "print(ack)"
   ]
  },
  {
   "cell_type": "code",
   "execution_count": null,
   "id": "5f4d2f3e-f97a-4838-aedc-156b4b84d9e1",
   "metadata": {},
   "outputs": [],
   "source": [
    "# Create dark playlist\n",
    "playlist = BTS_PLAYLISTS[\"dark\"]\n",
    "ack = await ATCamera.cmd_playlist.set_start(playlist=\"dark\",\n",
    "                                            folder=playlist.daq_folder,\n",
    "                                            images=playlist.get_image_names_as_string(),\n",
    "                                            timeout=60)\n",
    "print(ack)"
   ]
  },
  {
   "cell_type": "code",
   "execution_count": null,
   "id": "afaa82f4-a782-4e7b-8421-7cb8e463522c",
   "metadata": {},
   "outputs": [],
   "source": [
    "# Create flat playlist\n",
    "playlist = BTS_PLAYLISTS[\"flat\"]\n",
    "ack = await ATCamera.cmd_playlist.set_start(playlist=\"flat\",\n",
    "                                            folder=playlist.daq_folder,\n",
    "                                            images=playlist.get_image_names_as_string(),\n",
    "                                            timeout=60)\n",
    "print(ack)"
   ]
  },
  {
   "cell_type": "code",
   "execution_count": null,
   "id": "469e32ce-0a17-4a2a-bc1a-a098f7867977",
   "metadata": {
    "tags": []
   },
   "outputs": [],
   "source": [
    "# Create combined calibration playlist\n",
    "biases = BTS_PLAYLISTS[\"bias\"]\n",
    "darks = BTS_PLAYLISTS[\"dark\"]\n",
    "flats = BTS_PLAYLISTS[\"flat\"]\n",
    "ack = await ATCamera.cmd_playlist.set_start(playlist=\"bias_dark\",\n",
    "                                            folder=biases.daq_folder,\n",
    "                                            images=\":\".join(biases.get_image_names() +\n",
    "                                                            darks.get_image_names()),\n",
    "                                            timeout=60)\n",
    "print(ack)\n",
    "ack = await ATCamera.cmd_playlist.set_start(playlist=\"bias_dark_flat\",\n",
    "                                            folder=biases.daq_folder,\n",
    "                                            images=\":\".join(biases.get_image_names() +\n",
    "                                                            darks.get_image_names() +\n",
    "                                                            flats.get_image_names()),\n",
    "                                            timeout=60)\n",
    "print(ack)"
   ]
  },
  {
   "cell_type": "code",
   "execution_count": null,
   "id": "a276638e-63c9-43d3-81e3-d265bbe1a45a",
   "metadata": {},
   "outputs": [],
   "source": [
    "# Create ptc playlist\n",
    "playlist = BTS_PLAYLISTS[\"ptc\"]\n",
    "ack = await ATCamera.cmd_playlist.set_start(playlist=\"ptc\",\n",
    "                                            folder=playlist.daq_folder,\n",
    "                                            images=playlist.get_image_names_as_string(),\n",
    "                                            timeout=60)\n",
    "print(ack)"
   ]
  },
  {
   "cell_type": "code",
   "execution_count": null,
   "id": "17386267-236c-4211-96e7-2e126c68e652",
   "metadata": {},
   "outputs": [],
   "source": [
    "# Create bias_dark_ptc playlist\n",
    "biases = BTS_PLAYLISTS[\"bias\"]\n",
    "darks = BTS_PLAYLISTS[ \"dark\"]\n",
    "ptcs = BTS_PLAYLISTS[\"ptc\"]\n",
    "ack = await ATCamera.cmd_playlist.set_start(playlist=\"bias_dark_ptc\",\n",
    "                                            folder=biases.daq_folder,\n",
    "                                            images=\":\".join(biases.get_image_names() +\n",
    "                                                            darks.get_image_names() +\n",
    "                                                            ptcs.get_image_names()),\n",
    "                                            timeout=60)\n",
    "print(ack)"
   ]
  },
  {
   "cell_type": "code",
   "execution_count": null,
   "id": "466dfc97-79c9-4672-99e0-d88a2844998f",
   "metadata": {},
   "outputs": [],
   "source": [
    "# Create CWFS playlist\n",
    "playlist = BTS_PLAYLISTS[\"cwfs\"]\n",
    "ack = await ATCamera.cmd_playlist.set_start(playlist=\"cwfs-test_take_sequence\",\n",
    "                                            folder=playlist.daq_folder,\n",
    "                                            images=playlist.get_image_names_as_string(),\n",
    "                                            timeout=60)\n",
    "print(ack)"
   ]
  },
  {
   "cell_type": "code",
   "execution_count": null,
   "id": "7ed67ef2-07c7-4088-b9db-20ae2c19995e",
   "metadata": {},
   "outputs": [],
   "source": [
    "# Create LATISS image sequence for acquisition and verification\n",
    "playlist_name = \"latiss_acquire_and_take_sequence-test_take_acquisition_with_verification\"\n",
    "playlist = BTS_PLAYLISTS[\"verify\"]\n",
    "ack = await ATCamera.cmd_playlist.set_start(playlist=playlist_name,\n",
    "                                            folder=playlist.daq_folder,\n",
    "                                            images=playlist.get_image_names_as_string(),\n",
    "                                            timeout=60)\n",
    "print(ack)"
   ]
  },
  {
   "cell_type": "code",
   "execution_count": null,
   "id": "fd33e3be-be3c-421f-be93-d45d22daeab1",
   "metadata": {},
   "outputs": [],
   "source": [
    "# Create LATISS image sequence\n",
    "playlist_name = \"latiss_acquire_and_take_sequence-test_take_sequence\"\n",
    "playlist = BTS_PLAYLISTS[\"test\"]\n",
    "ack = await ATCamera.cmd_playlist.set_start(playlist=playlist_name,\n",
    "                                            folder=playlist.daq_folder,\n",
    "                                            images=playlist.get_image_names_as_string(),\n",
    "                                            timeout=60)\n",
    "print(ack)"
   ]
  },
  {
   "cell_type": "code",
   "execution_count": null,
   "id": "43fdc3aa-640e-40a5-b6f5-2c40146de9fc",
   "metadata": {},
   "outputs": [],
   "source": [
    "# Create LATISS image sequence for pointing acquisition\n",
    "playlist_name = \"latiss_acquire_and_take_sequence-test_take_acquisition_pointing\"\n",
    "playlist = BTS_PLAYLISTS[\"pointing\"]\n",
    "ack = await ATCamera.cmd_playlist.set_start(playlist=playlist_name,\n",
    "                                            folder=playlist.daq_folder,\n",
    "                                            images=playlist.get_image_names_as_string(),\n",
    "                                            timeout=60)\n",
    "print(ack)"
   ]
  },
  {
   "cell_type": "code",
   "execution_count": null,
   "id": "9ce3a94c-a1e6-4e70-959c-4646f4c00a3a",
   "metadata": {},
   "outputs": [],
   "source": [
    "# Create LATISS nominal image sequence\n",
    "playlist_name = \"latiss_acquire_and_take_sequence-test_take_acquisition_nominal\"\n",
    "playlist = BTS_PLAYLISTS[\"standard_visit\"]\n",
    "ack = await ATCamera.cmd_playlist.set_start(playlist=playlist_name,\n",
    "                                            folder=playlist.daq_folder,\n",
    "                                            images=playlist.get_image_names_as_string(),\n",
    "                                            timeout=60)\n",
    "print(ack)"
   ]
  },
  {
   "cell_type": "code",
   "execution_count": null,
   "id": "3ffcc30d-7bbc-4be1-aa1e-109c4aec8a9f",
   "metadata": {},
   "outputs": [],
   "source": []
  }
 ],
 "metadata": {
  "kernelspec": {
   "display_name": "LSST",
   "language": "python",
   "name": "lsst"
  },
  "language_info": {
   "codemirror_mode": {
    "name": "ipython",
    "version": 3
   },
   "file_extension": ".py",
   "mimetype": "text/x-python",
   "name": "python",
   "nbconvert_exporter": "python",
   "pygments_lexer": "ipython3",
   "version": "3.11.7"
  }
 },
 "nbformat": 4,
 "nbformat_minor": 5
}
