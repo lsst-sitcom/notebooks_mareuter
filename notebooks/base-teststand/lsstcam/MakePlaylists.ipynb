{
 "cells": [
  {
   "cell_type": "markdown",
   "id": "5186e2d6-57f3-43d3-872e-db4e3fda31fd",
   "metadata": {},
   "source": [
    "# Generate MTCamera Playlists for the Base Teststand"
   ]
  },
  {
   "cell_type": "code",
   "execution_count": null,
   "id": "9d5eaece-06f8-4fcd-98e1-023242be928c",
   "metadata": {
    "tags": []
   },
   "outputs": [],
   "source": [
    "import asyncio\n",
    "import logging\n",
    "import sys\n",
    "\n",
    "from lsst.ts import salobj\n",
    "from lsst.sitcom.mareuter.playlist_info.lsstcam import BTS_PLAYLISTS"
   ]
  },
  {
   "cell_type": "code",
   "execution_count": null,
   "id": "f9d4ec70-26f6-474c-b3fc-94685b01c66d",
   "metadata": {},
   "outputs": [],
   "source": [
    "domain = salobj.Domain()\n",
    "await asyncio.sleep(10)"
   ]
  },
  {
   "cell_type": "code",
   "execution_count": null,
   "id": "006acfa5-692b-4575-b06f-3f760e833ad7",
   "metadata": {},
   "outputs": [],
   "source": [
    "MTCamera = salobj.Remote(domain, 'MTCamera')\n",
    "await MTCamera.start_task"
   ]
  },
  {
   "cell_type": "code",
   "execution_count": null,
   "id": "3b273b7d-3481-4407-9367-c57f38249ffb",
   "metadata": {
    "tags": []
   },
   "outputs": [],
   "source": [
    "# Create default playlist\n",
    "playlist = BTS_PLAYLISTS[\"default\"]\n",
    "ack = await MTCamera.cmd_playlist.set_start(playlist=\"default\",\n",
    "                                            folder=playlist.daq_folder,\n",
    "                                            images=playlist.get_image_names_as_string(),\n",
    "                                            timeout=60)\n",
    "print(ack)"
   ]
  },
  {
   "cell_type": "code",
   "execution_count": null,
   "id": "d6abc031-d463-49b8-95b4-86f5e2fb2789",
   "metadata": {
    "tags": []
   },
   "outputs": [],
   "source": [
    "# Create bias playlist\n",
    "playlist = BTS_PLAYLISTS[\"bias\"]\n",
    "ack = await MTCamera.cmd_playlist.set_start(playlist=\"bias\",\n",
    "                                            folder=playlist.daq_folder,\n",
    "                                            images=playlist.get_image_names_as_string(),\n",
    "                                            timeout=60)\n",
    "print(ack)"
   ]
  },
  {
   "cell_type": "code",
   "execution_count": null,
   "id": "5f4d2f3e-f97a-4838-aedc-156b4b84d9e1",
   "metadata": {},
   "outputs": [],
   "source": [
    "# Create dark playlist\n",
    "playlist = BTS_PLAYLISTS[\"dark\"]\n",
    "ack = await MTCamera.cmd_playlist.set_start(playlist=\"dark\",\n",
    "                                            folder=playlist.daq_folder,\n",
    "                                            images=playlist.get_image_names_as_string(),\n",
    "                                            timeout=60)\n",
    "print(ack)"
   ]
  },
  {
   "cell_type": "code",
   "execution_count": null,
   "id": "afaa82f4-a782-4e7b-8421-7cb8e463522c",
   "metadata": {},
   "outputs": [],
   "source": [
    "# Create flat playlist\n",
    "playlist = BTS_PLAYLISTS[\"flat\"]\n",
    "ack = await MTCamera.cmd_playlist.set_start(playlist=\"flat\",\n",
    "                                            folder=playlist.daq_folder,\n",
    "                                            images=playlist.get_image_names_as_string(),\n",
    "                                            timeout=60)\n",
    "print(ack)"
   ]
  },
  {
   "cell_type": "code",
   "execution_count": null,
   "id": "469e32ce-0a17-4a2a-bc1a-a098f7867977",
   "metadata": {
    "tags": []
   },
   "outputs": [],
   "source": [
    "# Create combined calibration playlist\n",
    "biases = BTS_PLAYLISTS[\"bias\"]\n",
    "darks = BTS_PLAYLISTS[\"dark\"]\n",
    "flats = BTS_PLAYLISTS[\"flat\"]\n",
    "ack = await MTCamera.cmd_playlist.set_start(playlist=\"bias_dark\",\n",
    "                                            folder=biases.daq_folder,\n",
    "                                            images=\":\".join(biases.get_image_names() +\n",
    "                                                            darks.get_image_names()),\n",
    "                                            timeout=60)\n",
    "print(ack)\n",
    "ack = await MTCamera.cmd_playlist.set_start(playlist=\"bias_dark_flat\",\n",
    "                                            folder=biases.daq_folder,\n",
    "                                            images=\":\".join(biases.get_image_names() +\n",
    "                                                            darks.get_image_names() +\n",
    "                                                            flats.get_image_names()),\n",
    "                                            timeout=60)\n",
    "print(ack)"
   ]
  },
  {
   "cell_type": "code",
   "execution_count": null,
   "id": "a276638e-63c9-43d3-81e3-d265bbe1a45a",
   "metadata": {},
   "outputs": [],
   "source": [
    "# Create ptc playlist\n",
    "# playlist = BTS_PLAYLISTS[\"ptc\"]\n",
    "# ack = await ATCamera.cmd_playlist.set_start(playlist=\"ptc\",\n",
    "#                                             folder=playlist.daq_folder,\n",
    "#                                             images=playlist.get_image_names_as_string(),\n",
    "#                                             timeout=60)\n",
    "# print(ack)"
   ]
  },
  {
   "cell_type": "code",
   "execution_count": null,
   "id": "17386267-236c-4211-96e7-2e126c68e652",
   "metadata": {},
   "outputs": [],
   "source": [
    "# Create bias_dark_ptc playlist\n",
    "# biases = BTS_PLAYLISTS[\"bias\"]\n",
    "# darks = BTS_PLAYLISTS[ \"dark\"]\n",
    "# ptcs = BTS_PLAYLISTS[\"ptc\"]\n",
    "# ack = await ATCamera.cmd_playlist.set_start(playlist=\"bias_dark_ptc\",\n",
    "#                                             folder=biases.daq_folder,\n",
    "#                                             images=\":\".join(biases.get_image_names() +\n",
    "#                                                             darks.get_image_names() +\n",
    "#                                                             ptcs.get_image_names()),\n",
    "#                                             timeout=60)\n",
    "# print(ack)"
   ]
  },
  {
   "cell_type": "code",
   "execution_count": null,
   "id": "466dfc97-79c9-4672-99e0-d88a2844998f",
   "metadata": {},
   "outputs": [],
   "source": [
    "# Create AOS triplet playlist\n",
    "playlist = BTS_PLAYLISTS[\"aos-lsstcam-playlist-triplet\"]\n",
    "ack = await ATCamera.cmd_playlist.set_start(playlist=\"aos-lsstcam-playlist-triplet\",\n",
    "                                            folder=playlist.daq_folder,\n",
    "                                            images=playlist.get_image_names_as_string(),\n",
    "                                            timeout=60)\n",
    "print(ack)"
   ]
  },
  {
   "cell_type": "code",
   "execution_count": null,
   "id": "df32ecf2-c7b9-4b74-aa8e-8970b7d32a21",
   "metadata": {},
   "outputs": [],
   "source": [
    "# Create AOS in-focus playlist\n",
    "playlist = BTS_PLAYLISTS[\"aos-lsstcam-playlist-triplet\"]\n",
    "image = playlist.get_image_names()[1]  # middle image is the in-focus one\n",
    "ack = await ATCamera.cmd_playlist.set_start(playlist=\"aos-lsstcam-playlist-infocus\",\n",
    "                                            folder=playlist.daq_folder,\n",
    "                                            images=image,\n",
    "                                            timeout=60)\n",
    "print(ack)"
   ]
  }
 ],
 "metadata": {
  "kernelspec": {
   "display_name": "LSST",
   "language": "python",
   "name": "lsst"
  },
  "language_info": {
   "codemirror_mode": {
    "name": "ipython",
    "version": 3
   },
   "file_extension": ".py",
   "mimetype": "text/x-python",
   "name": "python",
   "nbconvert_exporter": "python",
   "pygments_lexer": "ipython3",
   "version": "3.11.11"
  }
 },
 "nbformat": 4,
 "nbformat_minor": 5
}
