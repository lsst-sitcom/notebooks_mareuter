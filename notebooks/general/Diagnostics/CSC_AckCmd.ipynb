{
 "cells": [
  {
   "cell_type": "code",
   "execution_count": 1,
   "id": "38d4cb3f-cca7-4753-9b4b-8348123214b1",
   "metadata": {},
   "outputs": [],
   "source": [
    "from astropy.time import Time\n",
    "\n",
    "from lsst_efd_client import EfdClient\n",
    "\n",
    "import lsst.sitcom.mareuter.pandas_helpers as ph\n",
    "import lsst.sitcom.mareuter.site_efd as se"
   ]
  },
  {
   "cell_type": "code",
   "execution_count": 32,
   "id": "2e6078ca-2730-48ff-b74b-e8717b83b9a2",
   "metadata": {},
   "outputs": [],
   "source": [
    "csc = \"ATPtg\"\n",
    "csc_index = None\n",
    "xml_sal_version = \"11.1.1_6.1.0\"\n",
    "start_time_str = \"2022-05-27T16:30:00\"\n",
    "end_time_str = \"2022-05-27T17:55:00\""
   ]
  },
  {
   "cell_type": "code",
   "execution_count": 33,
   "id": "6c9aefc1-4164-4df2-ab70-4be07a8d63b7",
   "metadata": {},
   "outputs": [],
   "source": [
    "client = EfdClient(se.get_efd())\n",
    "start_time = Time(start_time_str, scale=\"utc\")\n",
    "end_time = Time(end_time_str, scale=\"utc\")\n",
    "cmdtype_translation = ph.get_csc_ackcmd_mapping(csc, xml_sal_version)"
   ]
  },
  {
   "cell_type": "code",
   "execution_count": 34,
   "id": "e3ee15b8-8d84-4ae5-82d8-8e3434821a87",
   "metadata": {},
   "outputs": [],
   "source": [
    "df = await client.select_time_series(f\"lsst.sal.{csc}.ackcmd\", [\"ack\", \"cmdtype\", \"error\", \"identity\"],\n",
    "                                     start_time, end_time, index=csc_index)"
   ]
  },
  {
   "cell_type": "code",
   "execution_count": 35,
   "id": "204b03a8-a4e4-4798-a049-5f7d27ffbad8",
   "metadata": {},
   "outputs": [],
   "source": [
    "df[\"topicname\"] = df[\"cmdtype\"].map(cmdtype_translation)\n",
    "df = df.drop(\"cmdtype\", axis=1)\n",
    "df.rename(columns={\"topicname\": \"cmdtype\"}, inplace=True)\n",
    "df = df[sorted(df.columns)]"
   ]
  },
  {
   "cell_type": "code",
   "execution_count": 36,
   "id": "df84212d-d6dc-4619-9693-a2b76a401701",
   "metadata": {},
   "outputs": [
    {
     "name": "stdout",
     "output_type": "stream",
     "text": [
      "|                                  |   ack | cmdtype             |   error | identity           |\n",
      "|:---------------------------------|------:|:--------------------|--------:|:-------------------|\n",
      "| 2022-05-27 16:33:32.756833+00:00 |   300 | command_disable     |       0 | Script:100025      |\n",
      "| 2022-05-27 16:33:32.757520+00:00 |   303 | command_disable     |       0 | Script:100025      |\n",
      "| 2022-05-27 16:33:32.767933+00:00 |   300 | command_standby     |       0 | Script:100025      |\n",
      "| 2022-05-27 16:33:32.912840+00:00 |   303 | command_standby     |       0 | Script:100025      |\n",
      "| 2022-05-27 16:33:32.929077+00:00 |   300 | command_exitControl |       0 | Script:100025      |\n",
      "| 2022-05-27 16:33:33.412590+00:00 |   303 | command_exitControl |       0 | Script:100025      |\n",
      "| 2022-05-27 16:44:22.874860+00:00 |   300 | command_start       |       0 | Script:100027      |\n",
      "| 2022-05-27 16:44:22.882493+00:00 |   303 | command_start       |       0 | Script:100027      |\n",
      "| 2022-05-27 16:44:22.892760+00:00 |   300 | command_enable      |       0 | Script:100027      |\n",
      "| 2022-05-27 16:44:22.893216+00:00 |   303 | command_enable      |       0 | Script:100027      |\n",
      "| 2022-05-27 17:51:09.555182+00:00 |  -300 | command_disable     |       1 | r-owen@nb-r-2dowen |\n",
      "| 2022-05-27 17:51:09.555229+00:00 |   300 | command_setAuthList |       0 | Script:100033      |\n",
      "| 2022-05-27 17:51:09.555683+00:00 |   303 | command_setAuthList |       0 | Script:100033      |\n",
      "| 2022-05-27 17:53:19.335116+00:00 |  -300 | command_disable     |       1 | r-owen@nb-r-2dowen |\n",
      "| 2022-05-27 17:53:19.335145+00:00 |   300 | command_setAuthList |       0 | Script:100035      |\n",
      "| 2022-05-27 17:53:19.335491+00:00 |   303 | command_setAuthList |       0 | Script:100035      |\n"
     ]
    }
   ],
   "source": [
    "print(df.to_markdown())"
   ]
  },
  {
   "cell_type": "code",
   "execution_count": null,
   "id": "b07abd36-0891-4913-a130-fa6a52ec674d",
   "metadata": {},
   "outputs": [],
   "source": []
  }
 ],
 "metadata": {
  "kernelspec": {
   "display_name": "LSST",
   "language": "python",
   "name": "lsst"
  },
  "language_info": {
   "codemirror_mode": {
    "name": "ipython",
    "version": 3
   },
   "file_extension": ".py",
   "mimetype": "text/x-python",
   "name": "python",
   "nbconvert_exporter": "python",
   "pygments_lexer": "ipython3",
   "version": "3.10.8"
  }
 },
 "nbformat": 4,
 "nbformat_minor": 5
}
