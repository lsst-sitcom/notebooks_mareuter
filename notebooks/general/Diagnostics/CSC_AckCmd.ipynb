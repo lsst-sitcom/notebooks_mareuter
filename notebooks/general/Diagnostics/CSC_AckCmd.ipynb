{
 "cells": [
  {
   "cell_type": "code",
   "execution_count": null,
   "id": "38d4cb3f-cca7-4753-9b4b-8348123214b1",
   "metadata": {
    "tags": []
   },
   "outputs": [],
   "source": [
    "from astropy.time import Time\n",
    "\n",
    "from lsst_efd_client import EfdClient\n",
    "\n",
    "import lsst.sitcom.mareuter.pandas_helpers as ph\n",
    "import lsst.sitcom.mareuter.site_efd as se"
   ]
  },
  {
   "cell_type": "code",
   "execution_count": null,
   "id": "2e6078ca-2730-48ff-b74b-e8717b83b9a2",
   "metadata": {
    "tags": []
   },
   "outputs": [],
   "source": [
    "csc = \"GenericCamera\"\n",
    "csc_index = None\n",
    "xml_sal_version = \"20.2.0_7.5.0\"\n",
    "start_time_str = \"2024-04-03T08:40:00\"\n",
    "end_time_str = \"2024-04-03T08:55:00\""
   ]
  },
  {
   "cell_type": "code",
   "execution_count": null,
   "id": "6c9aefc1-4164-4df2-ab70-4be07a8d63b7",
   "metadata": {
    "tags": []
   },
   "outputs": [],
   "source": [
    "client = EfdClient(se.get_efd())\n",
    "start_time = Time(start_time_str, scale=\"utc\")\n",
    "end_time = Time(end_time_str, scale=\"utc\")\n",
    "cmdtype_translation = ph.get_csc_ackcmd_mapping(csc, xml_sal_version)"
   ]
  },
  {
   "cell_type": "code",
   "execution_count": null,
   "id": "e3ee15b8-8d84-4ae5-82d8-8e3434821a87",
   "metadata": {
    "tags": []
   },
   "outputs": [],
   "source": [
    "df = await client.select_time_series(f\"lsst.sal.{csc}.ackcmd\", [\"ack\", \"cmdtype\", \"error\", \"identity\"],\n",
    "                                     start_time, end_time, index=csc_index)"
   ]
  },
  {
   "cell_type": "code",
   "execution_count": null,
   "id": "204b03a8-a4e4-4798-a049-5f7d27ffbad8",
   "metadata": {
    "tags": []
   },
   "outputs": [],
   "source": [
    "df[\"topicname\"] = df[\"cmdtype\"].map(cmdtype_translation)\n",
    "df = df.drop(\"cmdtype\", axis=1)\n",
    "df.rename(columns={\"topicname\": \"cmdtype\"}, inplace=True)\n",
    "df = df[sorted(df.columns)]"
   ]
  },
  {
   "cell_type": "code",
   "execution_count": null,
   "id": "df84212d-d6dc-4619-9693-a2b76a401701",
   "metadata": {
    "tags": []
   },
   "outputs": [],
   "source": [
    "print(df.to_markdown())"
   ]
  },
  {
   "cell_type": "code",
   "execution_count": null,
   "id": "b07abd36-0891-4913-a130-fa6a52ec674d",
   "metadata": {},
   "outputs": [],
   "source": []
  }
 ],
 "metadata": {
  "kernelspec": {
   "display_name": "LSST",
   "language": "python",
   "name": "lsst"
  },
  "language_info": {
   "codemirror_mode": {
    "name": "ipython",
    "version": 3
   },
   "file_extension": ".py",
   "mimetype": "text/x-python",
   "name": "python",
   "nbconvert_exporter": "python",
   "pygments_lexer": "ipython3",
   "version": "3.12.10"
  }
 },
 "nbformat": 4,
 "nbformat_minor": 5
}
