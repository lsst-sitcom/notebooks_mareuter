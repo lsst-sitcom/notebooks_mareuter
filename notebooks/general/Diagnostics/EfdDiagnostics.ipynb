{
 "cells": [
  {
   "cell_type": "code",
   "execution_count": null,
   "id": "1817b6fe-dca6-45ff-8e6a-49aa77b22cd6",
   "metadata": {},
   "outputs": [],
   "source": [
    "from astropy.time import Time, TimeDelta\n",
    "import astropy.units as u\n",
    "from bokeh.models import DatetimeTickFormatter\n",
    "import holoviews as hv\n",
    "from holoviews import opts\n",
    "hv.extension('bokeh', logo=False)\n",
    "from IPython.display import Markdown as md\n",
    "import matplotlib.pyplot as plt\n",
    "import numpy as np\n",
    "\n",
    "from lsst_efd_client import EfdClient\n",
    "from lsst.sitcom.mareuter import get_mplstyle_file\n",
    "\n",
    "%matplotlib inline\n",
    "plt.style.use(get_mplstyle_file())"
   ]
  },
  {
   "cell_type": "code",
   "execution_count": null,
   "id": "6d9c0512-9201-467c-af7d-ff64505cc10b",
   "metadata": {
    "editable": true,
    "slideshow": {
     "slide_type": ""
    },
    "tags": [
     "parameters"
    ]
   },
   "outputs": [],
   "source": [
    "csc = \"ATDomeTrajectory\"\n",
    "topic_name = \"logevent_heartbeat\"\n",
    "expected_rate = 1\n",
    "use_kafka = True\n",
    "efd_name = \"tucson_teststand_efd\"\n",
    "start_time_str = \"2024-02-27T19:30:00\"\n",
    "end_time_str = \"2024-02-27T20:10:00\""
   ]
  },
  {
   "cell_type": "code",
   "execution_count": null,
   "id": "adde16c2-a0dc-4d85-9852-2956ee990f82",
   "metadata": {},
   "outputs": [],
   "source": [
    "client = EfdClient(efd_name)"
   ]
  },
  {
   "cell_type": "code",
   "execution_count": null,
   "id": "513e0678-cc66-4919-87b1-ec80371fc6b7",
   "metadata": {},
   "outputs": [],
   "source": [
    "if \":\" in csc:\n",
    "    values = csc.split(\":\")\n",
    "    csc_name = values[0]\n",
    "    csc_index = int(values[1])\n",
    "else:\n",
    "    csc_name = csc\n",
    "    csc_index = None\n",
    "plot_title = f\"{csc} {topic_name}\""
   ]
  },
  {
   "cell_type": "code",
   "execution_count": null,
   "id": "ede7502b-38a9-44a2-a95f-892900d0dc54",
   "metadata": {},
   "outputs": [],
   "source": [
    "start_time = Time(start_time_str, scale='utc')\n",
    "end_time = Time(end_time_str, scale='utc')\n",
    "\n",
    "columns = [\"private_sndStamp\", \"private_rcvStamp\", \"private_seqNum\"]\n",
    "if use_kafka:\n",
    "    columns.append(\"private_kafkaStamp\")\n",
    "df = await client.select_time_series(f\"lsst.sal.{csc_name}.{topic_name}\",\n",
    "                                     columns,\n",
    "                                     start_time,\n",
    "                                     end_time,\n",
    "                                     index=csc_index)"
   ]
  },
  {
   "cell_type": "code",
   "execution_count": null,
   "id": "340f69a5-032a-4ca8-bb3f-c05612a83bb1",
   "metadata": {},
   "outputs": [],
   "source": [
    "for column in columns:\n",
    "    df[f\"{column}_diff\"] = df[column].diff()"
   ]
  },
  {
   "cell_type": "code",
   "execution_count": null,
   "id": "0d04c67a-b8be-44de-b6f9-976226b12143",
   "metadata": {},
   "outputs": [],
   "source": [
    "md(f\"# <center>EFD Diagnostic Report<br><br>{plot_title}</center>\")"
   ]
  },
  {
   "cell_type": "code",
   "execution_count": null,
   "id": "59c5bcaf-b99e-4c36-9aa4-8c9dbf55b33f",
   "metadata": {},
   "outputs": [],
   "source": [
    "md(f\"## <center>{start_time} - {end_time}</center>\")"
   ]
  },
  {
   "cell_type": "code",
   "execution_count": null,
   "id": "8dd87013-78d6-4588-8ebf-fecfa037eefc",
   "metadata": {},
   "outputs": [],
   "source": [
    "md(\"### Breaks in Sequence Number\")"
   ]
  },
  {
   "cell_type": "code",
   "execution_count": null,
   "id": "118350a3-ff98-48f4-a365-c96669e0218d",
   "metadata": {},
   "outputs": [],
   "source": [
    "# Look for breaks in sequence numbers\n",
    "seq_delta = df['private_seqNum_diff'].values\n",
    "indexes = np.where(seq_delta > 1)[0]\n",
    "if indexes.size:\n",
    "    print(\"Break Size\\tStart Timestamp\\t\\t\\t\\tEnd Timestamp\")\n",
    "    for index in indexes:\n",
    "        #print(index)\n",
    "        print(f\"{seq_delta[index]}\\t\\t{df.index[index]}\\t{df.index[index + 1]}\")\n",
    "        #print(df.index[index + 1] - df.index[index])\n",
    "else:\n",
    "    print(\"No breaks in sequence number found.\")"
   ]
  },
  {
   "cell_type": "code",
   "execution_count": null,
   "id": "7a988127-f20f-4615-9015-f8d7819cae80",
   "metadata": {},
   "outputs": [],
   "source": [
    "md(\"### Timing Information\")"
   ]
  },
  {
   "cell_type": "code",
   "execution_count": null,
   "id": "b1e06dbd-0b10-4da8-95bb-1c990d4cd14e",
   "metadata": {},
   "outputs": [],
   "source": [
    "delta2 = df[\"private_sndStamp_diff\"].values\n",
    "rate = 1 / expected_rate\n",
    "message_send_jitter = (np.nanmedian(delta2) - rate) * u.s\n",
    "if message_send_jitter < (1 * u.s):\n",
    "    message_send_jitter = message_send_jitter.to(u.ms)\n",
    "print(f\"Median Message Send Jitter: {message_send_jitter:.4f}\")"
   ]
  },
  {
   "cell_type": "code",
   "execution_count": null,
   "id": "f5af0488-0ac5-46f4-9346-b8aca49f3972",
   "metadata": {},
   "outputs": [],
   "source": [
    "min_t = np.round(np.min(delta2), decimals=3)\n",
    "max_t = np.round(np.max(delta2), decimals=3)\n",
    "nbins = 50\n",
    "fig = plt.figure(1, (14, 6))\n",
    "fig.suptitle(\"Distribution of $\\Delta$T between Send Timestamps\")\n",
    "ax1 = fig.gca()\n",
    "x = ax1.hist(delta2, bins=50, log=True)\n",
    "ax1.set_xlabel(\"$\\Delta$Snd (s)\")\n",
    "h = ax1.set_ylabel(\"Frequency\")"
   ]
  },
  {
   "cell_type": "code",
   "execution_count": null,
   "id": "1921684c-374b-4892-9ac9-5004f37aefe3",
   "metadata": {},
   "outputs": [],
   "source": [
    "if use_kafka:\n",
    "    deltak = df[\"private_kafkaStamp_diff\"].values\n",
    "    min_t = np.round(np.min(deltak), decimals=3)\n",
    "    max_t = np.round(np.max(deltak), decimals=3)\n",
    "    nbins = 50\n",
    "    fig = plt.figure(1, (14, 6))\n",
    "    fig.suptitle(\"Distribution of $\\Delta$T between Kafka Timestamps\")\n",
    "    ax1 = fig.gca()\n",
    "    x = ax1.hist(deltak, bins=50, log=True)\n",
    "    ax1.set_xlabel(\"$\\Delta$Kafka (s)\")\n",
    "    h = ax1.set_ylabel(\"Frequency\")"
   ]
  },
  {
   "cell_type": "code",
   "execution_count": null,
   "id": "7363ec78-9b4a-46e0-bbfb-f320d620dfa2",
   "metadata": {},
   "outputs": [],
   "source": [
    "df.plot(y=\"private_kafkaStamp_diff\", title=\"Time Evolution of ΔT Between Kafka Timestamps.\",\n",
    "        ylabel=\"ΔKafka (s)\", backend=\"hvplot\", width=1000, height=400)"
   ]
  },
  {
   "cell_type": "code",
   "execution_count": null,
   "id": "b9ff911a-cefd-4015-9648-e9d05d2db5b6",
   "metadata": {},
   "outputs": [],
   "source": [
    "if not use_kafka:\n",
    "    df[\"clock_diff\"] = df[\"private_rcvStamp\"] - df[\"private_sndStamp\"]"
   ]
  },
  {
   "cell_type": "code",
   "execution_count": null,
   "id": "78b9be9a-5898-4412-8ce7-c18000751f8f",
   "metadata": {},
   "outputs": [],
   "source": [
    "if not use_kafka:\n",
    "    dt_format = '%F %T'\n",
    "    formats = {'days': dt_format, 'months': dt_format, 'hours': dt_format, 'minutes': dt_format}\n",
    "    date_formatter = DatetimeTickFormatter(**formats)\n",
    "    tick_rotation = 75\n",
    "    \n",
    "    table = hv.Table(df.reset_index())\n",
    "    x_tuple = ('index', 'clock_diff')\n",
    "    clock_diff = hv.Curve(table, x_tuple, (\"clock_diff\")).opts(xlabel=\"Time\", ylabel=\"Rcv - Snd (s)\")\n",
    "    layout = clock_diff\n",
    "    layout.opts(opts.Curve(height=400, width=800, xformatter=date_formatter, xrotation=tick_rotation,\n",
    "                           padding=0.01))"
   ]
  },
  {
   "cell_type": "code",
   "execution_count": null,
   "id": "ddfddd23-a457-4458-b5da-0529174da67f",
   "metadata": {},
   "outputs": [],
   "source": [
    "if not use_kafka:\n",
    "    max_t = np.round(np.max(df[\"clock_diff\"].values), decimals=3)\n",
    "    min_t = np.round(np.min(df[\"clock_diff\"].values), decimals=3)\n",
    "    if not min_t < 0:\n",
    "        min_t = 0.\n",
    "    nbins = 50\n",
    "    fig = plt.figure(1, (14, 6))\n",
    "    fig.suptitle(\"Distribution of Receive - Send Timestamps\")\n",
    "    ax1 = fig.gca()\n",
    "    x = ax1.hist(df[\"clock_diff\"].values, np.linspace(min_t, max_t, nbins), log=True)\n",
    "    ax1.set_xlabel(\"Rcv - Snd (s)\")\n",
    "    h = ax1.set_ylabel(\"Frequency\")"
   ]
  }
 ],
 "metadata": {
  "kernelspec": {
   "display_name": "Python 3 (ipykernel)",
   "language": "python",
   "name": "python3"
  },
  "language_info": {
   "codemirror_mode": {
    "name": "ipython",
    "version": 3
   },
   "file_extension": ".py",
   "mimetype": "text/x-python",
   "name": "python",
   "nbconvert_exporter": "python",
   "pygments_lexer": "ipython3",
   "version": "3.11.6"
  }
 },
 "nbformat": 4,
 "nbformat_minor": 5
}
