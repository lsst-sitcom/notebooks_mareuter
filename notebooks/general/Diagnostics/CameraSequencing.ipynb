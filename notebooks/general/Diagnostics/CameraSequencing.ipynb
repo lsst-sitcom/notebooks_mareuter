{
 "cells": [
  {
   "cell_type": "code",
   "execution_count": null,
   "id": "d4795e26-b27a-4461-bc5b-47ba40acaa60",
   "metadata": {},
   "outputs": [],
   "source": [
    "from astropy.time import Time, TimeDelta\n",
    "import astropy.units as u\n",
    "import holoviews as hv\n",
    "from holoviews import opts\n",
    "hv.extension('bokeh', logo=False)\n",
    "import numpy as np\n",
    "import pandas as pd\n",
    "\n",
    "from lsst_efd_client import EfdClient"
   ]
  },
  {
   "cell_type": "code",
   "execution_count": null,
   "id": "096b5efc-be6c-49e5-87fc-027e7ebe6206",
   "metadata": {},
   "outputs": [],
   "source": [
    "start_date = Time(\"2025-01-17T03:33:00\", scale=\"utc\")\n",
    "time_span = 600\n",
    "end_date= start_date + TimeDelta(val=time_span * u.s)\n",
    "tel = \"AT\"\n",
    "camera = f\"{tel}Camera\"\n",
    "hs = f\"{tel}HeaderService\"\n",
    "camera_topics = [\"logevent_startIntegration\", \"logevent_endReadout\", \"logevent_endOfImageTelemetry\"]\n",
    "hs_topics = [\"logevent_largeFileObjectAvailable\"]\n",
    "efd_name = \"base_efd\""
   ]
  },
  {
   "cell_type": "code",
   "execution_count": null,
   "id": "58093cdd-df96-4cc2-abe6-edec5f69787c",
   "metadata": {},
   "outputs": [],
   "source": [
    "client = EfdClient(efd_name)"
   ]
  },
  {
   "cell_type": "code",
   "execution_count": null,
   "id": "cc70bbc4-3416-4577-a124-529a61385028",
   "metadata": {},
   "outputs": [],
   "source": [
    "data = []\n",
    "for topic in camera_topics:\n",
    "    df = await client.select_time_series(f\"lsst.sal.{camera}.{topic}\",\n",
    "                                         \"imageName\",\n",
    "                                         start_date,\n",
    "                                         end_date)\n",
    "    data.append(df)\n",
    "for topic in hs_topics:\n",
    "    df = await client.select_time_series(f\"lsst.sal.{hs}.{topic}\",\n",
    "                                         \"url\",\n",
    "                                         start_date,\n",
    "                                         end_date)\n",
    "    image_name = []\n",
    "    for v in df[\"url\"]:\n",
    "        filename = v.split(\"/\")[-1]\n",
    "        img = \"_\".join(filename.split(\".\")[0].split(\"_\")[2:])\n",
    "        image_name.append(img)\n",
    "    df = df.drop(columns=\"url\").assign(imageName=image_name)\n",
    "    data.append(df)"
   ]
  },
  {
   "cell_type": "code",
   "execution_count": null,
   "id": "ff08410f-8878-47db-a4db-66d9ba3071a8",
   "metadata": {},
   "outputs": [],
   "source": [
    "d1 = hv.Table(data[0].reset_index())\n",
    "si = hv.Points(d1, label=\"Start Integration\").opts(marker=\"+\")\n",
    "\n",
    "d2 = hv.Table(data[1].reset_index())\n",
    "er = hv.Points(d2, label=\"End Readout\").opts(marker=\"x\")\n",
    "\n",
    "d3 = hv.Table(data[2].reset_index())\n",
    "eit = hv.Points(d3, label=\"End Image Telemetry\").opts(marker=\"^\")\n",
    "\n",
    "d4 = hv.Table(data[3].reset_index())\n",
    "lfoa = hv.Points(d4, label=\"Header Available\").opts(marker=\"v\")"
   ]
  },
  {
   "cell_type": "code",
   "execution_count": null,
   "id": "7e24eaea-41b6-422c-abcb-20d476b7dce8",
   "metadata": {},
   "outputs": [],
   "source": [
    "layout = si * er * eit * lfoa\n",
    "layout.opts(opts.Points(size=20, width=1000, height=600, legend_position=\"left\", legend_offset=(0, 200),\n",
    "                        xlabel=\"Time\", ylabel=\"Image Name\"))"
   ]
  },
  {
   "cell_type": "code",
   "execution_count": null,
   "id": "04242dba-1981-40aa-925a-c88f7b61c7d9",
   "metadata": {},
   "outputs": [],
   "source": [
    "diff = data[-1].index - data[-2].index\n",
    "diff_sec = diff / np.timedelta64(1, \"ns\") / 1e9"
   ]
  },
  {
   "cell_type": "code",
   "execution_count": null,
   "id": "6cb335c4-9f75-4111-a121-e1000eaaaeec",
   "metadata": {},
   "outputs": [],
   "source": [
    "df_diff = pd.DataFrame(data={\"imageName\": data[-1][\"imageName\"].values, \"TimeDiff\": diff_sec})\n",
    "dtp = hv.Points(df_diff, label=\"Time Difference Between Camera End of Image Telemetry and HS LFOA\").opts(marker=\"o\")"
   ]
  },
  {
   "cell_type": "code",
   "execution_count": null,
   "id": "41d41864-68dc-40b0-8fbd-dfbec3135d1f",
   "metadata": {},
   "outputs": [],
   "source": [
    "dtp.opts(opts.Points(size=20, width=1000, height=600, xlabel=\"Image Name\", xrotation=90, ylabel=\"ΔT (sec)\"))"
   ]
  },
  {
   "cell_type": "code",
   "execution_count": null,
   "id": "c3a18ea8-9dea-4f29-82bd-6f29a5c2e379",
   "metadata": {},
   "outputs": [],
   "source": []
  }
 ],
 "metadata": {
  "kernelspec": {
   "display_name": "LSST",
   "language": "python",
   "name": "lsst"
  },
  "language_info": {
   "codemirror_mode": {
    "name": "ipython",
    "version": 3
   },
   "file_extension": ".py",
   "mimetype": "text/x-python",
   "name": "python",
   "nbconvert_exporter": "python",
   "pygments_lexer": "ipython3",
   "version": "3.11.9"
  }
 },
 "nbformat": 4,
 "nbformat_minor": 5
}
