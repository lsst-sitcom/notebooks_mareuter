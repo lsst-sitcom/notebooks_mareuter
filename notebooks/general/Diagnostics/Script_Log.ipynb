{
 "cells": [
  {
   "cell_type": "code",
   "execution_count": null,
   "id": "e2269217-4da2-48d9-a66c-96f4b71218f6",
   "metadata": {
    "tags": []
   },
   "outputs": [],
   "source": [
    "import json\n",
    "\n",
    "from astropy.time import Time\n",
    "\n",
    "from lsst_efd_client import EfdClient\n",
    "\n",
    "import lsst.sitcom.mareuter.site_efd as se"
   ]
  },
  {
   "cell_type": "code",
   "execution_count": null,
   "id": "e9f4cf11-5ebd-4aae-b2b3-17f0a368cc19",
   "metadata": {
    "tags": []
   },
   "outputs": [],
   "source": [
    "client = EfdClient(se.get_efd())\n",
    "client.influx_client.output = \"json\""
   ]
  },
  {
   "cell_type": "code",
   "execution_count": null,
   "id": "58fcaa0b-e5d2-4150-b869-c769e5bdbe67",
   "metadata": {
    "tags": []
   },
   "outputs": [],
   "source": [
    "csc = \"Script\"\n",
    "csc_index = 200087\n",
    "start_time = Time(\"2024-06-06T17:00:00\", scale=\"utc\")\n",
    "# end_time = Time.now()\n",
    "end_time = Time(\"2024-06-06T18:30:00\", scale=\"utc\")"
   ]
  },
  {
   "cell_type": "code",
   "execution_count": null,
   "id": "36a81fbd-1667-4ecf-a218-3b20ea439c1b",
   "metadata": {
    "tags": []
   },
   "outputs": [],
   "source": [
    "df = await client.select_time_series(f\"lsst.sal.{csc}.logevent_logMessage\",\n",
    "                                     [\"private_sndStamp\", \"message\",\n",
    "                                      \"traceback\", \"functionName\", \"filePath\"],\n",
    "                                     start_time, end_time, index=csc_index)"
   ]
  },
  {
   "cell_type": "code",
   "execution_count": null,
   "id": "c74e09c2-9127-45f3-9bc9-ea2f409f445a",
   "metadata": {
    "tags": []
   },
   "outputs": [],
   "source": [
    "df"
   ]
  },
  {
   "cell_type": "code",
   "execution_count": null,
   "id": "c0190ecb-19d8-4df2-9c4a-12fd0253fdd4",
   "metadata": {},
   "outputs": [],
   "source": []
  }
 ],
 "metadata": {
  "kernelspec": {
   "display_name": "LSST",
   "language": "python",
   "name": "lsst"
  },
  "language_info": {
   "codemirror_mode": {
    "name": "ipython",
    "version": 3
   },
   "file_extension": ".py",
   "mimetype": "text/x-python",
   "name": "python",
   "nbconvert_exporter": "python",
   "pygments_lexer": "ipython3",
   "version": "3.11.9"
  }
 },
 "nbformat": 4,
 "nbformat_minor": 5
}
