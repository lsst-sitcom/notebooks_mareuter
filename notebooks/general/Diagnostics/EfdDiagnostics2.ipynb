{
 "cells": [
  {
   "cell_type": "code",
   "execution_count": null,
   "id": "b926e39b-b84c-4412-89bf-10260fcb8954",
   "metadata": {},
   "outputs": [],
   "source": [
    "from astropy.time import Time, TimeDelta\n",
    "import astropy.units as u\n",
    "import plotly.express as px\n",
    "\n",
    "from lsst_efd_client import EfdClient"
   ]
  },
  {
   "cell_type": "code",
   "execution_count": null,
   "id": "b4e94fdf-1dee-4b47-a7df-9c9d0ae6f29e",
   "metadata": {},
   "outputs": [],
   "source": [
    "# csc = \"ATHexapod\"\n",
    "# csc = \"Test:42\"\n",
    "csc = \"LEDProjector\"\n",
    "topic_name = \"logevent_heartbeat\"\n",
    "expected_rate = 1\n",
    "use_kafka = True\n",
    "efd_name = \"tucson_teststand_efd\"\n",
    "# start_time_str = \"2023-11-13T23:00:00\"\n",
    "# end_time_str = \"2023-11-13T23:15:00\"\n",
    "start_time_str = \"2024-02-13T19:15:00\"\n",
    "end_time_str = \"2024-02-13T19:22:00\""
   ]
  },
  {
   "cell_type": "code",
   "execution_count": null,
   "id": "6b43898d-8d3d-4527-a203-a82dd601017f",
   "metadata": {},
   "outputs": [],
   "source": [
    "client = EfdClient(efd_name)"
   ]
  },
  {
   "cell_type": "code",
   "execution_count": null,
   "id": "fa9a66a6-194a-4977-92f1-a3179e476dd3",
   "metadata": {},
   "outputs": [],
   "source": [
    "if \":\" in csc:\n",
    "    values = csc.split(\":\")\n",
    "    csc_name = values[0]\n",
    "    csc_index = int(values[1])\n",
    "else:\n",
    "    csc_name = csc\n",
    "    csc_index = None\n",
    "plot_title = f\"{csc} {topic_name}\""
   ]
  },
  {
   "cell_type": "code",
   "execution_count": null,
   "id": "b9aaa7f0-e6b7-411e-b6b7-1a811b029bb0",
   "metadata": {},
   "outputs": [],
   "source": [
    "start_time = Time(start_time_str, scale='utc')\n",
    "end_time = Time(end_time_str, scale='utc')\n",
    "\n",
    "columns = [\"private_sndStamp\", \"private_rcvStamp\", \"private_seqNum\"]\n",
    "if use_kafka:\n",
    "    columns.append(\"private_kafkaStamp\")\n",
    "df = await client.select_time_series(f\"lsst.sal.{csc_name}.{topic_name}\",\n",
    "                                     columns,\n",
    "                                     start_time,\n",
    "                                     end_time,\n",
    "                                     index=csc_index)"
   ]
  },
  {
   "cell_type": "code",
   "execution_count": null,
   "id": "95602868-ba08-4e31-9bf8-391519d9103f",
   "metadata": {},
   "outputs": [],
   "source": [
    "for column in columns:\n",
    "    df[f\"{column}_diff\"] = df[column].diff()"
   ]
  },
  {
   "cell_type": "code",
   "execution_count": null,
   "id": "4362bc3c-78cb-46e0-bc1e-64b2ea045912",
   "metadata": {},
   "outputs": [],
   "source": [
    "fig = px.scatter(df, x=\"private_sndStamp\", y=\"private_kafkaStamp\")\n",
    "fig.show()"
   ]
  },
  {
   "cell_type": "code",
   "execution_count": null,
   "id": "a2af573a-bfd1-492b-b848-c4747b0031ad",
   "metadata": {},
   "outputs": [],
   "source": []
  }
 ],
 "metadata": {
  "kernelspec": {
   "display_name": "Python 3 (ipykernel)",
   "language": "python",
   "name": "python3"
  },
  "language_info": {
   "codemirror_mode": {
    "name": "ipython",
    "version": 3
   },
   "file_extension": ".py",
   "mimetype": "text/x-python",
   "name": "python",
   "nbconvert_exporter": "python",
   "pygments_lexer": "ipython3",
   "version": "3.11.6"
  }
 },
 "nbformat": 4,
 "nbformat_minor": 5
}
