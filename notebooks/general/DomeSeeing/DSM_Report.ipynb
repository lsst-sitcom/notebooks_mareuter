{
 "cells": [
  {
   "cell_type": "code",
   "execution_count": null,
   "id": "28c9fe7e-1ec4-45e6-b0b6-edc36514995b",
   "metadata": {},
   "outputs": [],
   "source": [
    "from bokeh.models import DatetimeTickFormatter, PrintfTickFormatter\n",
    "from IPython.display import Markdown as md\n",
    "import holoviews as hv\n",
    "from holoviews import opts\n",
    "hv.extension('bokeh', logo=False)\n",
    "import numpy as np\n",
    "\n",
    "from lsst.sitcom.mareuter.dsm.data_handler import DataHandler, REPORT_TIME_FORMAT"
   ]
  },
  {
   "cell_type": "code",
   "execution_count": null,
   "id": "6e7ee008-7e66-4f0f-941e-a0a6b7965314",
   "metadata": {
    "editable": true,
    "slideshow": {
     "slide_type": ""
    },
    "tags": [
     "parameters"
    ]
   },
   "outputs": [],
   "source": [
    "ipath = \"~/Dropbox_LSST/Dome_Seeing_Monitor/DSM_Data/20200122/40FPS\"\n",
    "date_str = \"20200122_195044\"\n",
    "csc_index = 1\n",
    "efd_name = None\n",
    "use_old_weather = False"
   ]
  },
  {
   "cell_type": "code",
   "execution_count": null,
   "id": "2234de89-bea1-4931-adeb-32ef9d10de17",
   "metadata": {},
   "outputs": [],
   "source": [
    "data = DataHandler(ipath, date_str, 0.85)"
   ]
  },
  {
   "cell_type": "code",
   "execution_count": null,
   "id": "38b16046-dba5-4d85-a18e-787a4a6c29a8",
   "metadata": {},
   "outputs": [],
   "source": [
    "await data.process(efd_name, csc_index, use_old_weather)"
   ]
  },
  {
   "cell_type": "code",
   "execution_count": null,
   "id": "e49fec24-e446-43db-88f7-dc1b0a28353d",
   "metadata": {},
   "outputs": [],
   "source": [
    "md(f\"### Dome Seeing Monitor Report {data.report_time()}\")"
   ]
  },
  {
   "cell_type": "code",
   "execution_count": null,
   "id": "a121eac5-f1d6-4e0e-8d38-f54f02e489f9",
   "metadata": {},
   "outputs": [],
   "source": [
    "print(\"General Information\")\n",
    "data.print_general_information()\n",
    "print()\n",
    "print(\"Camera Information\")\n",
    "data.print_camera_information()\n",
    "print()\n",
    "data.print_extra_information()"
   ]
  },
  {
   "cell_type": "code",
   "execution_count": null,
   "id": "f8842fbf-57d9-43cf-9fb7-b16329faedce",
   "metadata": {},
   "outputs": [],
   "source": [
    "psd_x = hv.Image((data.frequencies, data.timestamps, data.psd_x), rtol=1, label='PSD X').opts(width=460)\n",
    "psd_y = hv.Image((data.frequencies, data.timestamps, data.psd_y), rtol=1, label='PSD Y').opts(yaxis='bare', width=350)\n",
    "\n",
    "psd = psd_x + psd_y\n",
    "\n",
    "colorbar_opts = {'colorbar': True, 'colorbar_position': 'bottom',\n",
    "                 'colorbar_opts': {'formatter': PrintfTickFormatter(format=\"%0.0e\")}}\n",
    "\n",
    "dt_format = REPORT_TIME_FORMAT\n",
    "formats = {'days': dt_format, 'months': dt_format, 'hours': dt_format, 'minutes': dt_format}\n",
    "date_formatter = DatetimeTickFormatter(**formats)\n",
    "\n",
    "psd.opts(opts.Image(cmap='viridis', logz=True, invert_yaxis=True,\n",
    "                    **colorbar_opts,\n",
    "                    height=400,\n",
    "                    yformatter=date_formatter,\n",
    "                    xlabel='𝜈 (Hz)', ylabel='Date'))"
   ]
  },
  {
   "cell_type": "code",
   "execution_count": null,
   "id": "27d26deb-eb06-4536-9b19-6bcce19779c7",
   "metadata": {},
   "outputs": [],
   "source": [
    "src = hv.Table(data.pd_seeing.reset_index())\n",
    "src_w = hv.Table(data.pd_weather.reset_index())\n",
    "tick_rotation = 75\n",
    "x_tuple = ('index', 'Date')\n",
    "full_width = 350\n",
    "end_col_size = full_width - 75\n",
    "wind_speed = \"avg2M\" if use_old_weather else \"speed\"\n",
    "\n",
    "cx = hv.Curve(src, x_tuple, ('centroidX', 'X'), label='X')\n",
    "cy = hv.Curve(src, x_tuple, ('centroidY', 'Y'), label='Y')\n",
    "centroids = (cx * cy).opts(ylabel='Pixel Position', title='Centroids', width=full_width)\n",
    "sx = hv.Curve(src, x_tuple, ('rmsX', 'X'), label='X')\n",
    "sy = hv.Curve(src, x_tuple, ('rmsY', 'Y'), label='Y')\n",
    "seeing = (sx * sy).opts(ylabel='scaled RMS (arcsec)', title='Seeing', width=full_width)\n",
    "wind = hv.Curve(src_w, x_tuple, (wind_speed, 'Speed (m/s)'), label='Wind').opts(width=end_col_size)\n",
    "flux = hv.Curve(src, x_tuple, ('flux', 'Flux'), label='Flux').opts(ylabel='')\n",
    "max_adc = hv.Curve(src, x_tuple, ('maxADC', 'Max ADC'), label='Max ADC').opts(ylabel='')\n",
    "fwhm = hv.Curve(src, x_tuple, ('fwhm', '(pixels)'), label='FWHM').opts(width=end_col_size)\n",
    "\n",
    "layout = (centroids + seeing + wind + flux + max_adc + fwhm).cols(3)\n",
    "layout.opts(opts.Layout(toolbar='above'),\n",
    "            opts.Overlay(legend_position='right'),\n",
    "            opts.Curve(xformatter=date_formatter, xrotation=tick_rotation, height=400))"
   ]
  },
  {
   "cell_type": "code",
   "execution_count": null,
   "id": "7ef249fe-303c-4007-8542-30f9f7f0a2bc",
   "metadata": {},
   "outputs": [],
   "source": [
    "hcx = hv.Histogram(np.histogram(src[\"centroidX\"], bins=20), kdims=[\"X\"])\n",
    "hcy = hv.Histogram(np.histogram(src[\"centroidY\"], bins=20), kdims=[\"Y\"])\n",
    "hlayout = hcx + hcy\n",
    "hlayout.opts()"
   ]
  },
  {
   "cell_type": "code",
   "execution_count": null,
   "id": "ef526d46-9768-423d-b452-8c551b617979",
   "metadata": {},
   "outputs": [],
   "source": [
    "dcx = src[\"centroidX\"][1:] - src[\"centroidX\"][:-1]\n",
    "dcy = src[\"centroidY\"][1:] - src[\"centroidY\"][:-1]\n",
    "hdcx = hv.Histogram(np.histogram(dcx, bins=21), kdims=[\"ΔX (pixels)\"])\n",
    "hdcy = hv.Histogram(np.histogram(dcy, bins=21), kdims=[\"ΔY (pixels)\"])\n",
    "dhlayout = hdcx + hdcy\n",
    "dhlayout.opts()"
   ]
  },
  {
   "cell_type": "code",
   "execution_count": null,
   "id": "e3cd48b8-7362-440a-a14c-41ecddc7380b",
   "metadata": {},
   "outputs": [],
   "source": [
    "psd_x_d = {data.timestamps[i]:hv.Curve((data.frequencies, data.psd_x[i])) for i in range(data.timestamps.shape[0])}\n",
    "psd_y_d = {data.timestamps[i]:hv.Curve((data.frequencies, data.psd_y[i])) for i in range(data.timestamps.shape[0])}\n",
    "hm_psd_x = hv.HoloMap(psd_x_d, kdims=\"datetime\")\n",
    "hm_psd_y = hv.HoloMap(psd_y_d, kdims=\"datetime\")\n",
    "map_layout = hm_psd_x + hm_psd_y\n",
    "map_layout.opts(opts.Curve(xlabel=\"𝜈 (Hz)\", ylabel=\"Power\", logy=True))"
   ]
  }
 ],
 "metadata": {
  "kernelspec": {
   "display_name": "Python 3 (ipykernel)",
   "language": "python",
   "name": "python3"
  },
  "language_info": {
   "codemirror_mode": {
    "name": "ipython",
    "version": 3
   },
   "file_extension": ".py",
   "mimetype": "text/x-python",
   "name": "python",
   "nbconvert_exporter": "python",
   "pygments_lexer": "ipython3",
   "version": "3.11.6"
  }
 },
 "nbformat": 4,
 "nbformat_minor": 5
}
