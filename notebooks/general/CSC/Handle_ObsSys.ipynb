{
 "cells": [
  {
   "cell_type": "code",
   "execution_count": null,
   "id": "97adc8d3-44a9-4a7e-9675-9d422332bc59",
   "metadata": {},
   "outputs": [],
   "source": [
    "import asyncio\n",
    "import logging\n",
    "import sys\n",
    "\n",
    "from lsst.ts import salobj"
   ]
  },
  {
   "cell_type": "code",
   "execution_count": null,
   "id": "966bec97-36b0-4860-9368-0f3e4f2107dd",
   "metadata": {},
   "outputs": [],
   "source": [
    "stream_handler = logging.StreamHandler(sys.stdout)\n",
    "\n",
    "logger = logging.getLogger()\n",
    "logger.addHandler(stream_handler)\n",
    "logger.level = logging.DEBUG"
   ]
  },
  {
   "cell_type": "code",
   "execution_count": null,
   "id": "163d37dd-ace4-4160-a7f7-fbd2ac976737",
   "metadata": {},
   "outputs": [],
   "source": [
    "d = salobj.Domain()\n",
    "await asyncio.sleep(10)"
   ]
  },
  {
   "cell_type": "code",
   "execution_count": null,
   "id": "5e9bcc05-687e-4a42-b149-a557b3826a1d",
   "metadata": {},
   "outputs": [],
   "source": [
    "GIS = salobj.Remote(d, \"GIS\")\n",
    "\n",
    "await asyncio.gather(GIS.start_task,)"
   ]
  },
  {
   "cell_type": "code",
   "execution_count": null,
   "id": "dd09534c-f62d-459b-8ab7-65f7119df955",
   "metadata": {},
   "outputs": [],
   "source": [
    "csc_state = salobj.State.ENABLED"
   ]
  },
  {
   "cell_type": "code",
   "execution_count": null,
   "id": "1fd78836-5750-460b-9979-da78a702b33a",
   "metadata": {},
   "outputs": [],
   "source": [
    "await salobj.set_summary_state(GIS, csc_state)"
   ]
  },
  {
   "cell_type": "code",
   "execution_count": null,
   "id": "1ab8c0b7-f4f3-4167-b49a-b32a1673e90e",
   "metadata": {},
   "outputs": [],
   "source": []
  }
 ],
 "metadata": {
  "kernelspec": {
   "display_name": "LSST",
   "language": "python",
   "name": "lsst"
  },
  "language_info": {
   "codemirror_mode": {
    "name": "ipython",
    "version": 3
   },
   "file_extension": ".py",
   "mimetype": "text/x-python",
   "name": "python",
   "nbconvert_exporter": "python",
   "pygments_lexer": "ipython3",
   "version": "3.11.10"
  }
 },
 "nbformat": 4,
 "nbformat_minor": 5
}
