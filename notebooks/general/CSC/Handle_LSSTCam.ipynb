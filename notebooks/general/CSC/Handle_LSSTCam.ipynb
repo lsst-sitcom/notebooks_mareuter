{
 "cells": [
  {
   "cell_type": "code",
   "execution_count": null,
   "id": "fe4a720c-4f74-476a-b780-fe2f7a2794e0",
   "metadata": {},
   "outputs": [],
   "source": [
    "import asyncio\n",
    "import logging\n",
    "import sys\n",
    "\n",
    "from lsst.ts import salobj"
   ]
  },
  {
   "cell_type": "code",
   "execution_count": null,
   "id": "05dc5d22-e561-42b5-ba49-db07434042ec",
   "metadata": {},
   "outputs": [],
   "source": [
    "stream_handler = logging.StreamHandler(sys.stdout)\n",
    "\n",
    "logger = logging.getLogger()\n",
    "logger.addHandler(stream_handler)\n",
    "logger.level = logging.DEBUG"
   ]
  },
  {
   "cell_type": "code",
   "execution_count": null,
   "id": "85bfef2d-4f7f-42e7-96e8-df507cf66413",
   "metadata": {},
   "outputs": [],
   "source": [
    "d = salobj.Domain()\n",
    "await asyncio.sleep(10)"
   ]
  },
  {
   "cell_type": "code",
   "execution_count": null,
   "id": "78a2a12b-e57c-49fc-889c-191b519ca226",
   "metadata": {},
   "outputs": [],
   "source": [
    "MTOODS = salobj.Remote(d, 'MTOODS')\n",
    "MTCamera = salobj.Remote(d, 'MTCamera') \n",
    "MTHeaderService = salobj.Remote(d, 'MTHeaderService')\n",
    "\n",
    "await asyncio.gather(\n",
    "    MTOODS.start_task,\n",
    "    MTHeaderService.start_task, \n",
    "    MTCamera.start_task\n",
    ")"
   ]
  },
  {
   "cell_type": "code",
   "execution_count": null,
   "id": "bdfe3ec1-2701-4779-a4fd-acfbddc15dc4",
   "metadata": {},
   "outputs": [],
   "source": [
    "# csc_state = salobj.State.ENABLED\n",
    "# csc_state = salobj.State.STANDBY\n",
    "csc_state = salobj.State.OFFLINE"
   ]
  },
  {
   "cell_type": "code",
   "execution_count": null,
   "id": "ff79dfd0-5874-4282-98d7-ae746a094ca4",
   "metadata": {},
   "outputs": [],
   "source": [
    "await salobj.set_summary_state(MTCamera, csc_state)"
   ]
  },
  {
   "cell_type": "code",
   "execution_count": null,
   "id": "f31d0b05-cb5d-45a8-babe-46325845aeae",
   "metadata": {},
   "outputs": [],
   "source": [
    "await salobj.set_summary_state(MTHeaderService, csc_state)"
   ]
  },
  {
   "cell_type": "code",
   "execution_count": null,
   "id": "5c3348b8-466e-4606-910c-96910ff50b44",
   "metadata": {},
   "outputs": [],
   "source": [
    "await salobj.set_summary_state(MTOODS, csc_state)"
   ]
  },
  {
   "cell_type": "code",
   "execution_count": null,
   "id": "ea221db1-a1fc-4988-833b-273e566c71a4",
   "metadata": {},
   "outputs": [],
   "source": []
  }
 ],
 "metadata": {
  "kernelspec": {
   "display_name": "LSST",
   "language": "python",
   "name": "lsst"
  },
  "language_info": {
   "codemirror_mode": {
    "name": "ipython",
    "version": 3
   },
   "file_extension": ".py",
   "mimetype": "text/x-python",
   "name": "python",
   "nbconvert_exporter": "python",
   "pygments_lexer": "ipython3",
   "version": "3.11.10"
  }
 },
 "nbformat": 4,
 "nbformat_minor": 5
}
