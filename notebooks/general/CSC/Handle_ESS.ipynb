{
 "cells": [
  {
   "cell_type": "code",
   "execution_count": null,
   "id": "3cccf19e-e0d1-4741-b550-cbcd80888751",
   "metadata": {},
   "outputs": [],
   "source": [
    "import asyncio\n",
    "import logging\n",
    "import sys\n",
    "\n",
    "from lsst.ts import salobj"
   ]
  },
  {
   "cell_type": "code",
   "execution_count": null,
   "id": "da761b34-ed8b-4172-aa62-9875f6feedfa",
   "metadata": {},
   "outputs": [],
   "source": [
    "stream_handler = logging.StreamHandler(sys.stdout)\n",
    "\n",
    "logger = logging.getLogger()\n",
    "logger.addHandler(stream_handler)\n",
    "logger.level = logging.DEBUG"
   ]
  },
  {
   "cell_type": "code",
   "execution_count": null,
   "id": "d6350d07-56bf-45ad-b378-e7ba4f125a54",
   "metadata": {},
   "outputs": [],
   "source": [
    "d = salobj.Domain()\n",
    "await asyncio.sleep(10)"
   ]
  },
  {
   "cell_type": "code",
   "execution_count": null,
   "id": "43f5901f-6287-484b-a4fd-6f9995c4ac7f",
   "metadata": {},
   "outputs": [],
   "source": [
    "ESS1 = salobj.Remote(d, \"ESS\", index=1)\n",
    "ESS101 = salobj.Remote(d, \"ESS\", index=101)\n",
    "ESS102 = salobj.Remote(d, \"ESS\", index=102)\n",
    "ESS103 = salobj.Remote(d, \"ESS\", index=103)\n",
    "ESS104 = salobj.Remote(d, \"ESS\", index=104)\n",
    "ESS105 = salobj.Remote(d, \"ESS\", index=105)\n",
    "ESS106 = salobj.Remote(d, \"ESS\", index=106)\n",
    "ESS107 = salobj.Remote(d, \"ESS\", index=107)\n",
    "ESS108 = salobj.Remote(d, \"ESS\", index=108)\n",
    "ESS109 = salobj.Remote(d, \"ESS\", index=109)\n",
    "ESS201 = salobj.Remote(d, \"ESS\", index=201)\n",
    "ESS202 = salobj.Remote(d, \"ESS\", index=202)\n",
    "ESS203 = salobj.Remote(d, \"ESS\", index=203)\n",
    "ESS204 = salobj.Remote(d, \"ESS\", index=204)\n",
    "ESS205 = salobj.Remote(d, \"ESS\", index=205)\n",
    "ESS301 = salobj.Remote(d, \"ESS\", index=301)\n",
    "\n",
    "await asyncio.gather(\n",
    "    ESS1.start_task,\n",
    "    ESS101.start_task,\n",
    "    ESS102.start_task,\n",
    "    ESS103.start_task,\n",
    "    ESS104.start_task,\n",
    "    ESS105.start_task,\n",
    "    ESS106.start_task,\n",
    "    ESS107.start_task,\n",
    "    ESS108.start_task,\n",
    "    ESS109.start_task,\n",
    "    ESS201.start_task,\n",
    "    ESS202.start_task,\n",
    "    ESS203.start_task,\n",
    "    ESS204.start_task,\n",
    "    ESS205.start_task,\n",
    "    ESS301.start_task\n",
    ")"
   ]
  },
  {
   "cell_type": "code",
   "execution_count": null,
   "id": "20df3ffa-1b43-44a5-9bb5-67a55af90600",
   "metadata": {},
   "outputs": [],
   "source": [
    "csc_state = salobj.State.ENABLED"
   ]
  },
  {
   "cell_type": "code",
   "execution_count": null,
   "id": "b59b6f2b-687f-45de-ab38-c0f45a71e0c9",
   "metadata": {},
   "outputs": [],
   "source": [
    "await salobj.set_summary_state(ESS1, csc_state)"
   ]
  },
  {
   "cell_type": "code",
   "execution_count": null,
   "id": "d05cf7e8-7b93-4aa9-8f57-d0d8881b3baa",
   "metadata": {},
   "outputs": [],
   "source": [
    "await salobj.set_summary_state(ESS101, csc_state)"
   ]
  },
  {
   "cell_type": "code",
   "execution_count": null,
   "id": "3e098893-d370-4f55-92c6-732b0a86d6a0",
   "metadata": {},
   "outputs": [],
   "source": [
    "await salobj.set_summary_state(ESS102, csc_state)"
   ]
  },
  {
   "cell_type": "code",
   "execution_count": null,
   "id": "8e455cd2-d2d0-4ba6-8378-62465e57efcb",
   "metadata": {},
   "outputs": [],
   "source": [
    "await salobj.set_summary_state(ESS103, csc_state)"
   ]
  },
  {
   "cell_type": "code",
   "execution_count": null,
   "id": "9a43033e-308e-4598-adfb-f8e9e2fbe44c",
   "metadata": {},
   "outputs": [],
   "source": [
    "await salobj.set_summary_state(ESS104, csc_state)"
   ]
  },
  {
   "cell_type": "code",
   "execution_count": null,
   "id": "a3752f64-0b1f-495e-8b96-ddf627c2ce28",
   "metadata": {},
   "outputs": [],
   "source": [
    "await salobj.set_summary_state(ESS105, csc_state)"
   ]
  },
  {
   "cell_type": "code",
   "execution_count": null,
   "id": "9db7e8a6-88be-4672-9867-f1d4c19a7d88",
   "metadata": {},
   "outputs": [],
   "source": [
    "await salobj.set_summary_state(ESS106, csc_state)"
   ]
  },
  {
   "cell_type": "code",
   "execution_count": null,
   "id": "5e5f9d4c-45ce-4bd8-9715-789ab29340e5",
   "metadata": {},
   "outputs": [],
   "source": [
    "await salobj.set_summary_state(ESS107, csc_state)"
   ]
  },
  {
   "cell_type": "code",
   "execution_count": null,
   "id": "bd259a04-e42a-43bc-a1fc-a6485d387400",
   "metadata": {},
   "outputs": [],
   "source": [
    "await salobj.set_summary_state(ESS108, csc_state)"
   ]
  },
  {
   "cell_type": "code",
   "execution_count": null,
   "id": "c6cfaa7f-7b12-4b7f-a685-b7aa95f00d4c",
   "metadata": {},
   "outputs": [],
   "source": [
    "await salobj.set_summary_state(ESS109, csc_state)"
   ]
  },
  {
   "cell_type": "code",
   "execution_count": null,
   "id": "95b9bf19-76d5-4515-b57a-afe2f2c18b44",
   "metadata": {},
   "outputs": [],
   "source": [
    "await salobj.set_summary_state(ESS201, csc_state)"
   ]
  },
  {
   "cell_type": "code",
   "execution_count": null,
   "id": "afc59abf-f6f0-4480-8889-fc87175bed02",
   "metadata": {},
   "outputs": [],
   "source": [
    "await salobj.set_summary_state(ESS202, csc_state)"
   ]
  },
  {
   "cell_type": "code",
   "execution_count": null,
   "id": "e5e42878-efdc-41a5-99db-8099d2c030ed",
   "metadata": {},
   "outputs": [],
   "source": [
    "await salobj.set_summary_state(ESS203, csc_state)"
   ]
  },
  {
   "cell_type": "code",
   "execution_count": null,
   "id": "6a80c24d-32f2-44b1-9a29-39c1536b0cb9",
   "metadata": {},
   "outputs": [],
   "source": [
    "await salobj.set_summary_state(ESS204, csc_state)"
   ]
  },
  {
   "cell_type": "code",
   "execution_count": null,
   "id": "3785a2a7-7ef5-47b0-bf93-ae143317fc77",
   "metadata": {},
   "outputs": [],
   "source": [
    "await salobj.set_summary_state(ESS205, csc_state)"
   ]
  },
  {
   "cell_type": "code",
   "execution_count": null,
   "id": "0b85658f-3b74-4b13-8096-62315a5d950c",
   "metadata": {},
   "outputs": [],
   "source": [
    "await salobj.set_summary_state(ESS301, csc_state)"
   ]
  },
  {
   "cell_type": "code",
   "execution_count": null,
   "id": "5254941e-55aa-44be-8367-e766856ad004",
   "metadata": {},
   "outputs": [],
   "source": []
  }
 ],
 "metadata": {
  "kernelspec": {
   "display_name": "LSST",
   "language": "python",
   "name": "lsst"
  },
  "language_info": {
   "codemirror_mode": {
    "name": "ipython",
    "version": 3
   },
   "file_extension": ".py",
   "mimetype": "text/x-python",
   "name": "python",
   "nbconvert_exporter": "python",
   "pygments_lexer": "ipython3",
   "version": "3.11.11"
  }
 },
 "nbformat": 4,
 "nbformat_minor": 5
}
