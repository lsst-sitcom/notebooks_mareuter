{
 "cells": [
  {
   "cell_type": "code",
   "execution_count": null,
   "id": "b59bd3a7-dea3-4c88-b8c0-59727ffb15e8",
   "metadata": {},
   "outputs": [],
   "source": [
    "import asyncio\n",
    "import logging\n",
    "import sys\n",
    "\n",
    "from lsst.ts import salobj\n",
    "from lsst.ts.observatory.control.maintel.comcam import ComCam"
   ]
  },
  {
   "cell_type": "code",
   "execution_count": null,
   "id": "1003b7d9-510b-4421-baf2-e7d09bbd5fad",
   "metadata": {},
   "outputs": [],
   "source": [
    "domain = salobj.Domain()\n",
    "await asyncio.sleep(10)"
   ]
  },
  {
   "cell_type": "code",
   "execution_count": null,
   "id": "4a5ff465-1325-4b5a-bf85-fc509ac484ae",
   "metadata": {},
   "outputs": [],
   "source": [
    "comcam = ComCam(domain)\n",
    "await comcam.start_task"
   ]
  },
  {
   "cell_type": "code",
   "execution_count": null,
   "id": "5ec1f5c5-ca32-4349-a586-1548fc8a9a75",
   "metadata": {},
   "outputs": [],
   "source": [
    "await salobj.set_summary_state(comcam.rem.ccheaderservice, salobj.State.ENABLED)"
   ]
  },
  {
   "cell_type": "code",
   "execution_count": null,
   "id": "5ff053a4-181f-45d2-bac9-79a23596c42f",
   "metadata": {},
   "outputs": [],
   "source": [
    "await salobj.set_summary_state(comcam.rem.ccamera, salobj.State.ENABLED, override=\"Normal\")"
   ]
  },
  {
   "cell_type": "code",
   "execution_count": null,
   "id": "e61adb3e-94d5-4cda-b491-31cb3e529faf",
   "metadata": {},
   "outputs": [],
   "source": [
    "await salobj.set_summary_state(comcam.rem.ccoods, salobj.State.ENABLED)"
   ]
  }
 ],
 "metadata": {
  "kernelspec": {
   "display_name": "LSST",
   "language": "python",
   "name": "lsst"
  },
  "language_info": {
   "codemirror_mode": {
    "name": "ipython",
    "version": 3
   },
   "file_extension": ".py",
   "mimetype": "text/x-python",
   "name": "python",
   "nbconvert_exporter": "python",
   "pygments_lexer": "ipython3",
   "version": "3.11.7"
  }
 },
 "nbformat": 4,
 "nbformat_minor": 5
}
