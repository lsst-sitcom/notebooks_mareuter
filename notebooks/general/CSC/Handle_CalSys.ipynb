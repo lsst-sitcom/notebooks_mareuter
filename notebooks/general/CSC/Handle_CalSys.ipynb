{
 "cells": [
  {
   "cell_type": "code",
   "execution_count": null,
   "id": "97adc8d3-44a9-4a7e-9675-9d422332bc59",
   "metadata": {},
   "outputs": [],
   "source": [
    "import asyncio\n",
    "import logging\n",
    "import sys\n",
    "\n",
    "from lsst.ts import salobj"
   ]
  },
  {
   "cell_type": "code",
   "execution_count": null,
   "id": "966bec97-36b0-4860-9368-0f3e4f2107dd",
   "metadata": {},
   "outputs": [],
   "source": [
    "stream_handler = logging.StreamHandler(sys.stdout)\n",
    "\n",
    "logger = logging.getLogger()\n",
    "logger.addHandler(stream_handler)\n",
    "logger.level = logging.WARNING"
   ]
  },
  {
   "cell_type": "code",
   "execution_count": null,
   "id": "163d37dd-ace4-4160-a7f7-fbd2ac976737",
   "metadata": {},
   "outputs": [],
   "source": [
    "d = salobj.Domain()\n",
    "await asyncio.sleep(10)"
   ]
  },
  {
   "cell_type": "code",
   "execution_count": null,
   "id": "5e9bcc05-687e-4a42-b149-a557b3826a1d",
   "metadata": {},
   "outputs": [],
   "source": [
    "FS_Red = salobj.Remote(d, \"FiberSpectrograph\", index=101)\n",
    "FS_Blue = salobj.Remote(d, \"FiberSpectrograph\", index=102)\n",
    "\n",
    "await asyncio.gather(FS_Red.start_task, FS_Blue.start_task, )"
   ]
  },
  {
   "cell_type": "code",
   "execution_count": null,
   "id": "dd09534c-f62d-459b-8ab7-65f7119df955",
   "metadata": {},
   "outputs": [],
   "source": [
    "csc_state = salobj.State.OFFLINE"
   ]
  },
  {
   "cell_type": "code",
   "execution_count": null,
   "id": "1fd78836-5750-460b-9979-da78a702b33a",
   "metadata": {},
   "outputs": [],
   "source": [
    "await salobj.set_summary_state(FS_Red, csc_state)"
   ]
  },
  {
   "cell_type": "code",
   "execution_count": null,
   "id": "1ab8c0b7-f4f3-4167-b49a-b32a1673e90e",
   "metadata": {},
   "outputs": [],
   "source": [
    "await salobj.set_summary_state(FS_Blue, csc_state)"
   ]
  },
  {
   "cell_type": "code",
   "execution_count": null,
   "id": "61771ffe-789d-4154-8471-8031fcdd17a5",
   "metadata": {},
   "outputs": [],
   "source": []
  }
 ],
 "metadata": {
  "kernelspec": {
   "display_name": "LSST",
   "language": "python",
   "name": "lsst"
  },
  "language_info": {
   "codemirror_mode": {
    "name": "ipython",
    "version": 3
   },
   "file_extension": ".py",
   "mimetype": "text/x-python",
   "name": "python",
   "nbconvert_exporter": "python",
   "pygments_lexer": "ipython3",
   "version": "3.12.9"
  }
 },
 "nbformat": 4,
 "nbformat_minor": 5
}
