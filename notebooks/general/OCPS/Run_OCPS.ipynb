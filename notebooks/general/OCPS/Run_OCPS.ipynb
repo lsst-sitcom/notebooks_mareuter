{
 "cells": [
  {
   "cell_type": "code",
   "execution_count": null,
   "id": "ce352fbc-9a48-441a-9c9e-82dbb90caee8",
   "metadata": {},
   "outputs": [],
   "source": [
    "import asyncio\n",
    "import logging\n",
    "import sys\n",
    "\n",
    "from lsst.ts import salobj"
   ]
  },
  {
   "cell_type": "code",
   "execution_count": null,
   "id": "aa064a0f-9a28-4d32-83de-b84e6d64c487",
   "metadata": {},
   "outputs": [],
   "source": [
    "stream_handler = logging.StreamHandler(sys.stdout)\n",
    "\n",
    "logger = logging.getLogger()\n",
    "logger.addHandler(stream_handler)\n",
    "logger.level = logging.WARNING"
   ]
  },
  {
   "cell_type": "code",
   "execution_count": null,
   "id": "ea4e05bb-6522-4f4e-9761-9cb993153251",
   "metadata": {},
   "outputs": [],
   "source": [
    "d = salobj.Domain()\n",
    "await asyncio.sleep(10)"
   ]
  },
  {
   "cell_type": "code",
   "execution_count": null,
   "id": "2ef1bbd7-7c93-40b5-95c4-3653fdedd494",
   "metadata": {},
   "outputs": [],
   "source": [
    "# OCPS:1 - AT, OCPS:2 - ComCam, OCPS:3 - LSSTCam\n",
    "index = 1\n",
    "OCPS = salobj.Remote(d, 'OCPS', index=index)\n",
    "await OCPS.start_task"
   ]
  },
  {
   "cell_type": "code",
   "execution_count": null,
   "id": "e28045c6-a8cc-4149-b622-22b724cd24d7",
   "metadata": {},
   "outputs": [],
   "source": [
    "config = \"-j 8 -i LATISS/calib --register-dataset-types -c biasIsr:doDefect=False\"\n",
    "data_query = \"instrument='LATISS' AND detector IN (0) AND exposure IN (2024050300001, 2024050300002, 2024050300003, 2024050300004, 2024050300005, 2024050300006, 2024050300007, 2024050300008, 2024050300009, 2024050300010)\"\n",
    "pipeline = \"${CP_PIPE_DIR}/pipelines/Latiss/cpBias.yaml\"\n",
    "#config = \"-j 8 -i u/ocps/73926fef7d0f416088928f0187488d0a,LATISS/calib --register-dataset-types\"\n",
    "#pipeline = \"${CP_VERIFY_DIR}/pipelines/Latiss/VerifyBias.yaml\""
   ]
  },
  {
   "cell_type": "code",
   "execution_count": null,
   "id": "5fffb561-bb92-47b3-bf7b-44582ecb9465",
   "metadata": {},
   "outputs": [],
   "source": [
    "ack = await OCPS.cmd_execute.set_start(config=config, data_query=data_query, pipeline=pipeline)\n",
    "print(ack)"
   ]
  },
  {
   "cell_type": "code",
   "execution_count": null,
   "id": "24b1130c-01d3-4dc6-9c3a-7faf5e1479aa",
   "metadata": {},
   "outputs": [],
   "source": []
  }
 ],
 "metadata": {
  "kernelspec": {
   "display_name": "LSST",
   "language": "python",
   "name": "lsst"
  },
  "language_info": {
   "codemirror_mode": {
    "name": "ipython",
    "version": 3
   },
   "file_extension": ".py",
   "mimetype": "text/x-python",
   "name": "python",
   "nbconvert_exporter": "python",
   "pygments_lexer": "ipython3",
   "version": "3.11.9"
  }
 },
 "nbformat": 4,
 "nbformat_minor": 5
}
