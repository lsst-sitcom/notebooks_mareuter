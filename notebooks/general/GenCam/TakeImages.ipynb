{
 "cells": [
  {
   "cell_type": "code",
   "execution_count": null,
   "id": "2b18ff66-ebdc-4919-b84e-8158234fe817",
   "metadata": {},
   "outputs": [],
   "source": [
    "import asyncio\n",
    "import logging\n",
    "import sys\n",
    "\n",
    "from lsst.ts import salobj"
   ]
  },
  {
   "cell_type": "code",
   "execution_count": null,
   "id": "9b7b5cea-da08-48b3-b5a7-abd83cdf58f3",
   "metadata": {},
   "outputs": [],
   "source": [
    "stream_handler = logging.StreamHandler(sys.stdout)\n",
    "\n",
    "logger = logging.getLogger()\n",
    "logger.addHandler(stream_handler)\n",
    "logger.level = logging.DEBUG"
   ]
  },
  {
   "cell_type": "code",
   "execution_count": null,
   "id": "d715b55e-b22e-4e03-8ccb-995ce1855eb1",
   "metadata": {},
   "outputs": [],
   "source": [
    "domain = salobj.Domain()\n",
    "await asyncio.sleep(10)"
   ]
  },
  {
   "cell_type": "code",
   "execution_count": null,
   "id": "b3a5c8f8-1bfe-484c-9263-f06ccdac0e7d",
   "metadata": {},
   "outputs": [],
   "source": [
    "simcam = salobj.Remote(domain, 'GenericCamera', index=1)\n",
    "await simcam.start_task"
   ]
  },
  {
   "cell_type": "code",
   "execution_count": null,
   "id": "47e65a94-1e71-49f3-ac17-e24a5b3677c4",
   "metadata": {},
   "outputs": [],
   "source": [
    "kw = {\n",
    "    \"numImages\": 3,\n",
    "    \"expTime\": 10.0,\n",
    "    \"shutter\": True,\n",
    "    \"keyValueMap\": \"imageType:ENGTEST\",\n",
    "}\n",
    "timeout = kw[\"numImages\"] * (kw[\"expTime\"] + 2.0 + 1.0)"
   ]
  },
  {
   "cell_type": "code",
   "execution_count": null,
   "id": "f4295201-e370-43b1-b574-57962394bbdc",
   "metadata": {},
   "outputs": [],
   "source": [
    "ack = await simcam.cmd_takeImages.set_start(**kw, timeout=timeout)\n",
    "print(ack)"
   ]
  },
  {
   "cell_type": "code",
   "execution_count": null,
   "id": "e94de188-f8aa-4c5e-a8e3-14def2aba56a",
   "metadata": {},
   "outputs": [],
   "source": []
  }
 ],
 "metadata": {
  "kernelspec": {
   "display_name": "LSST",
   "language": "python",
   "name": "lsst"
  },
  "language_info": {
   "codemirror_mode": {
    "name": "ipython",
    "version": 3
   },
   "file_extension": ".py",
   "mimetype": "text/x-python",
   "name": "python",
   "nbconvert_exporter": "python",
   "pygments_lexer": "ipython3",
   "version": "3.10.5"
  }
 },
 "nbformat": 4,
 "nbformat_minor": 5
}
