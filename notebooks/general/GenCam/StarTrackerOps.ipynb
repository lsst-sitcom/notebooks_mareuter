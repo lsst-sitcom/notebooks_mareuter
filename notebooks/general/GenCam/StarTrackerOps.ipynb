{
 "cells": [
  {
   "cell_type": "code",
   "execution_count": null,
   "id": "76227f9e-88fd-4eaa-9646-16f7935641f5",
   "metadata": {},
   "outputs": [],
   "source": [
    "from astropy.time import Time, TimeDelta\n",
    "import astropy.units as u\n",
    "import holoviews as hv\n",
    "from holoviews import opts\n",
    "hv.extension('bokeh', logo=False)\n",
    "\n",
    "from lsst_efd_client import EfdClient"
   ]
  },
  {
   "cell_type": "code",
   "execution_count": null,
   "id": "4af394f4-ba88-4fcd-9d5a-8a1d29fb82fc",
   "metadata": {},
   "outputs": [],
   "source": [
    "start_date = Time(\"2024-04-18T12:00:00\", scale=\"utc\")\n",
    "end_date= start_date + TimeDelta(val=3600*24 * u.s)\n",
    "csc = \"GenericCamera\"\n",
    "topics = [\"command_takeImages\", \"logevent_startTakeImage\", \"logevent_endTakeImage\", \"command_startStreamingMode\", \"command_stopStreamingMode\"]\n",
    "efd_name = \"usdf_efd\""
   ]
  },
  {
   "cell_type": "code",
   "execution_count": null,
   "id": "15c3d0d0-7958-4e2c-95a5-c9febda6948e",
   "metadata": {},
   "outputs": [],
   "source": [
    "client = EfdClient(efd_name)"
   ]
  },
  {
   "cell_type": "code",
   "execution_count": null,
   "id": "d26809a4-13e9-4107-a3d8-795fa500529d",
   "metadata": {},
   "outputs": [],
   "source": [
    "data = []\n",
    "for topic in topics:\n",
    "    df = await client.select_time_series(f\"lsst.sal.{csc}.{topic}\",\n",
    "                                         \"salIndex\",\n",
    "                                         start_date,\n",
    "                                         end_date)\n",
    "    data.append(df)"
   ]
  },
  {
   "cell_type": "code",
   "execution_count": null,
   "id": "20018800-a928-4a01-9e65-c88be70c2b66",
   "metadata": {},
   "outputs": [],
   "source": [
    "d0 = hv.Table(data[0].reset_index())\n",
    "cti = hv.Points(d0, label=\"Command takeImages\").opts(marker=\"o\")\n",
    "\n",
    "d1 = hv.Table(data[1].reset_index())\n",
    "tis = hv.Points(d1, label=\"Start takeImage\").opts(marker=\"+\")\n",
    "\n",
    "d2 = hv.Table(data[2].reset_index())\n",
    "eti = hv.Points(d2, label=\"End takeImage\").opts(marker=\"x\")\n",
    "\n",
    "d3 = hv.Table(data[3].reset_index())\n",
    "if d3.rows > 1:\n",
    "    sst = hv.Points(d3, label=\"Start streamingMode\").opts(marker=\"^\")\n",
    "else:\n",
    "    sst = None\n",
    "\n",
    "d4 = hv.Table(data[4].reset_index())\n",
    "if d4.rows > 1:\n",
    "    est = hv.Points(d4, label=\"End streamingMode\").opts(marker=\"v\")\n",
    "else:\n",
    "    est = None"
   ]
  },
  {
   "cell_type": "code",
   "execution_count": null,
   "id": "c6ff5fcf-0f31-4fed-a0ab-96370e54c263",
   "metadata": {},
   "outputs": [],
   "source": [
    "layout = cti * tis * eti\n",
    "if sst is not None and est is not None:\n",
    "    layout *= sst * est\n",
    "layout.opts(opts.Points(size=20, width=1000, height=600, legend_position=\"left\", legend_offset=(0, 200),\n",
    "                        xlabel=\"Time\", yticks=[101, 102, 103]))"
   ]
  },
  {
   "cell_type": "code",
   "execution_count": null,
   "id": "3273a02d-a060-4172-b1d9-7a405392890a",
   "metadata": {},
   "outputs": [],
   "source": [
    "eti_103 = d2[d2[\"salIndex\"] == 103]\n",
    "tis_103 = d1[d1[\"salIndex\"] == 103]"
   ]
  },
  {
   "cell_type": "code",
   "execution_count": null,
   "id": "782828be-a3fa-471b-b618-2387c67da165",
   "metadata": {},
   "outputs": [],
   "source": [
    "import numpy as np\n",
    "diff_103 = np.abs(eti_103[\"index\"][:167] - tis_103[\"index\"][1:168])"
   ]
  },
  {
   "cell_type": "code",
   "execution_count": null,
   "id": "f2f1b6c9-d72a-4231-b626-73b30c865957",
   "metadata": {},
   "outputs": [],
   "source": [
    "conv = diff_103 / np.timedelta64(1, \"ns\") / 1e9"
   ]
  },
  {
   "cell_type": "code",
   "execution_count": null,
   "id": "be0831c0-85b0-4fe3-87f4-2cb91b5ef1fe",
   "metadata": {},
   "outputs": [],
   "source": [
    "conv * 1000"
   ]
  },
  {
   "cell_type": "code",
   "execution_count": null,
   "id": "3d053848-4419-48d9-a09d-ed0cd2c4a667",
   "metadata": {},
   "outputs": [],
   "source": []
  }
 ],
 "metadata": {
  "kernelspec": {
   "display_name": "LSST",
   "language": "python",
   "name": "lsst"
  },
  "language_info": {
   "codemirror_mode": {
    "name": "ipython",
    "version": 3
   },
   "file_extension": ".py",
   "mimetype": "text/x-python",
   "name": "python",
   "nbconvert_exporter": "python",
   "pygments_lexer": "ipython3",
   "version": "3.11.11"
  }
 },
 "nbformat": 4,
 "nbformat_minor": 5
}
