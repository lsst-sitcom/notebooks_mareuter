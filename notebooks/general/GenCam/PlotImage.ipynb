{
 "cells": [
  {
   "cell_type": "code",
   "execution_count": null,
   "id": "9d132777-6040-4ea4-a436-59c8090ed54b",
   "metadata": {},
   "outputs": [],
   "source": [
    "from astropy.io import fits\n",
    "from astropy.utils.data import download_file\n",
    "from astropy.visualization import astropy_mpl_style\n",
    "import matplotlib.pyplot as plt\n",
    "\n",
    "plt.style.use(astropy_mpl_style)"
   ]
  },
  {
   "cell_type": "code",
   "execution_count": null,
   "id": "081d9261-38e0-47f6-93c9-e5ab9bf5730c",
   "metadata": {},
   "outputs": [],
   "source": [
    "url = \"https://s3.tu.lsst.org/rubinobs-lfa-tuc/GenericCamera/1/2022/08/19/GenericCamera_1_1660921865-2-3.fits\""
   ]
  },
  {
   "cell_type": "code",
   "execution_count": null,
   "id": "b4dbb523-6139-451c-a731-ca9ba731dcd5",
   "metadata": {},
   "outputs": [],
   "source": [
    "image_file = download_file(url)\n",
    "image_data = fits.getdata(image_file, ext=0)"
   ]
  },
  {
   "cell_type": "code",
   "execution_count": null,
   "id": "c893a56b-c70e-47a6-a585-2233dfb1f38a",
   "metadata": {},
   "outputs": [],
   "source": [
    "print(image_data.shape)"
   ]
  },
  {
   "cell_type": "code",
   "execution_count": null,
   "id": "597a1884-796d-4514-b4e4-0bf9b755f54f",
   "metadata": {},
   "outputs": [],
   "source": [
    "plt.figure(figsize=(10, 8))\n",
    "plt.imshow(image_data, cmap='gray')\n",
    "plt.colorbar()"
   ]
  },
  {
   "cell_type": "code",
   "execution_count": null,
   "id": "b86dc2b1-9d5a-451e-a067-a0a0b9ccdf38",
   "metadata": {},
   "outputs": [],
   "source": []
  }
 ],
 "metadata": {
  "kernelspec": {
   "display_name": "LSST",
   "language": "python",
   "name": "lsst"
  },
  "language_info": {
   "codemirror_mode": {
    "name": "ipython",
    "version": 3
   },
   "file_extension": ".py",
   "mimetype": "text/x-python",
   "name": "python",
   "nbconvert_exporter": "python",
   "pygments_lexer": "ipython3",
   "version": "3.10.5"
  }
 },
 "nbformat": 4,
 "nbformat_minor": 5
}
