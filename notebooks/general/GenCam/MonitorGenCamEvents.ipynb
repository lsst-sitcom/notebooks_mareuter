{
 "cells": [
  {
   "cell_type": "code",
   "execution_count": null,
   "id": "2b18ff66-ebdc-4919-b84e-8158234fe817",
   "metadata": {},
   "outputs": [],
   "source": [
    "import asyncio\n",
    "import logging\n",
    "import os\n",
    "import sys\n",
    "\n",
    "from lsst.ts import salobj"
   ]
  },
  {
   "cell_type": "code",
   "execution_count": null,
   "id": "9b7b5cea-da08-48b3-b5a7-abd83cdf58f3",
   "metadata": {},
   "outputs": [],
   "source": [
    "stream_handler = logging.StreamHandler(sys.stdout)\n",
    "\n",
    "logger = logging.getLogger()\n",
    "logger.addHandler(stream_handler)\n",
    "logger.level = logging.INFO"
   ]
  },
  {
   "cell_type": "code",
   "execution_count": null,
   "id": "1a223148-0703-4eff-afea-ecdc364d0a43",
   "metadata": {},
   "outputs": [],
   "source": [
    "def print_event(name):\n",
    "    def callback(data):\n",
    "        print(name)\n",
    "        print(data)\n",
    "        print(os.linesep)\n",
    "    return callback"
   ]
  },
  {
   "cell_type": "code",
   "execution_count": null,
   "id": "28f6b26e-7937-4e7f-b76b-1ba6d6748010",
   "metadata": {},
   "outputs": [],
   "source": [
    "async with salobj.Domain() as domain:\n",
    "    await asyncio.sleep(10)\n",
    "\n",
    "    simcam = salobj.Remote(domain, 'GenericCamera', index=1)\n",
    "    await simcam.start_task\n",
    "\n",
    "    simcam.evt_startTakeImage.callback = print_event(\"startTakeImage\")\n",
    "    simcam.evt_startIntegration.callback = print_event(\"startIntegration\")\n",
    "    simcam.evt_endIntegration.callback = print_event(\"endIntegration\")\n",
    "    simcam.evt_startReadout.callback = print_event(\"startReadout\")\n",
    "    simcam.evt_endReadout.callback = print_event(\"endReadout\")\n",
    "    simcam.evt_largeFileObjectAvailable.callback = print_event(\"largeFileObjectAvailable\")\n",
    "    simcam.evt_endTakeImage.callback = print_event(\"endTakeImage\")\n",
    "\n",
    "    while True:\n",
    "        await asyncio.sleep(0.1)"
   ]
  },
  {
   "cell_type": "code",
   "execution_count": null,
   "id": "e94de188-f8aa-4c5e-a8e3-14def2aba56a",
   "metadata": {},
   "outputs": [],
   "source": []
  }
 ],
 "metadata": {
  "kernelspec": {
   "display_name": "LSST",
   "language": "python",
   "name": "lsst"
  },
  "language_info": {
   "codemirror_mode": {
    "name": "ipython",
    "version": 3
   },
   "file_extension": ".py",
   "mimetype": "text/x-python",
   "name": "python",
   "nbconvert_exporter": "python",
   "pygments_lexer": "ipython3",
   "version": "3.10.5"
  }
 },
 "nbformat": 4,
 "nbformat_minor": 5
}
