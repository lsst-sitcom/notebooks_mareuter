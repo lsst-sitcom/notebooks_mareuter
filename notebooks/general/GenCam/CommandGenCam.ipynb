{
 "cells": [
  {
   "cell_type": "code",
   "execution_count": null,
   "id": "2b18ff66-ebdc-4919-b84e-8158234fe817",
   "metadata": {},
   "outputs": [],
   "source": [
    "import asyncio\n",
    "import logging\n",
    "import sys\n",
    "\n",
    "from lsst.ts import salobj\n",
    "from lsst.ts.observatory.control.generic_camera import GenericCamera"
   ]
  },
  {
   "cell_type": "code",
   "execution_count": null,
   "id": "9b7b5cea-da08-48b3-b5a7-abd83cdf58f3",
   "metadata": {},
   "outputs": [],
   "source": [
    "stream_handler = logging.StreamHandler(sys.stdout)\n",
    "\n",
    "logger = logging.getLogger()\n",
    "logger.addHandler(stream_handler)\n",
    "logger.level = logging.DEBUG"
   ]
  },
  {
   "cell_type": "code",
   "execution_count": null,
   "id": "d715b55e-b22e-4e03-8ccb-995ce1855eb1",
   "metadata": {},
   "outputs": [],
   "source": [
    "domain = salobj.Domain()\n",
    "await asyncio.sleep(10)"
   ]
  },
  {
   "cell_type": "code",
   "execution_count": null,
   "id": "b3a5c8f8-1bfe-484c-9263-f06ccdac0e7d",
   "metadata": {},
   "outputs": [],
   "source": [
    "simcam = GenericCamera(1, domain)\n",
    "await simcam.start_task"
   ]
  },
  {
   "cell_type": "markdown",
   "id": "ebfbcf24-a880-444b-9567-efc7c505c46e",
   "metadata": {},
   "source": [
    "## Take Images with GC"
   ]
  },
  {
   "cell_type": "code",
   "execution_count": null,
   "id": "da83b768-966b-4b2d-b0ce-d479da771509",
   "metadata": {
    "tags": []
   },
   "outputs": [],
   "source": [
    "await simcam.take_object(exptime=8.5, n=1, program=\"IntegrationTesting\", reason=\"CSCTesting\")"
   ]
  },
  {
   "cell_type": "code",
   "execution_count": null,
   "id": "afa348ee-5fed-4f34-a4b4-a85bbef74e31",
   "metadata": {
    "tags": []
   },
   "outputs": [],
   "source": [
    "await simcam.take_bias(nbias=1, program=\"IntegrationTesting\", reason=\"CSCTesting\")"
   ]
  },
  {
   "cell_type": "code",
   "execution_count": null,
   "id": "4ba386f1-c7b7-493a-829a-ac055c433b42",
   "metadata": {
    "tags": []
   },
   "outputs": [],
   "source": [
    "await simcam.take_darks(ndarks=1, exptime=10.0, program=\"IntegrationTesting\", reason=\"CSCTesting\")"
   ]
  },
  {
   "cell_type": "markdown",
   "id": "60341dd1-fdde-4718-852d-6a4c3d3f25ef",
   "metadata": {},
   "source": [
    "## Run Autoexposure Mode"
   ]
  },
  {
   "cell_type": "code",
   "execution_count": null,
   "id": "e94de188-f8aa-4c5e-a8e3-14def2aba56a",
   "metadata": {},
   "outputs": [],
   "source": [
    "kw = {\n",
    "    \"minExpTime\": 5.0,\n",
    "    \"maxExpTime\": 20.0,\n",
    "    \"configuration\": '\"keyValueMap\": \"imageType:OBJECT\"'\n",
    "}\n",
    "timeout = 120"
   ]
  },
  {
   "cell_type": "code",
   "execution_count": null,
   "id": "9fc88bda-aa23-4fea-b985-2d3455f8b171",
   "metadata": {},
   "outputs": [],
   "source": [
    "ack = await simcam.cmd_startAutoExposure.set_start(**kw, timeout=timeout)\n",
    "print(ack)"
   ]
  },
  {
   "cell_type": "code",
   "execution_count": null,
   "id": "20e24aaf-4e71-4b4c-8a14-de62d0b50302",
   "metadata": {},
   "outputs": [],
   "source": [
    "ack = await simcam.cmd_stopAutoExposure.start(timeout=timeout)\n",
    "print(ack)"
   ]
  },
  {
   "cell_type": "code",
   "execution_count": null,
   "id": "cb6a0e10-eced-4c03-bcd1-5f16d8a1c756",
   "metadata": {},
   "outputs": [],
   "source": []
  }
 ],
 "metadata": {
  "kernelspec": {
   "display_name": "LSST",
   "language": "python",
   "name": "lsst"
  },
  "language_info": {
   "codemirror_mode": {
    "name": "ipython",
    "version": 3
   },
   "file_extension": ".py",
   "mimetype": "text/x-python",
   "name": "python",
   "nbconvert_exporter": "python",
   "pygments_lexer": "ipython3",
   "version": "3.11.11"
  }
 },
 "nbformat": 4,
 "nbformat_minor": 5
}
