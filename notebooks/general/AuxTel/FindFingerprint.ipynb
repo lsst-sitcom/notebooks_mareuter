{
 "cells": [
  {
   "cell_type": "markdown",
   "id": "6a655c18-b27c-4b80-b5d5-31c1e77f1e1b",
   "metadata": {},
   "source": [
    "Find the fingerprint of a simulated image from the real image used."
   ]
  },
  {
   "cell_type": "code",
   "execution_count": null,
   "id": "9dd210e1",
   "metadata": {},
   "outputs": [],
   "source": [
    "import lsst.daf.butler as dafButler\n",
    "import lsst.sitcom.mareuter.fingerprinting as fp"
   ]
  },
  {
   "cell_type": "code",
   "execution_count": null,
   "id": "bf02a1f5",
   "metadata": {},
   "outputs": [],
   "source": [
    "instrument = \"LATISS\"\n",
    "butler = dafButler.Butler(instrument, collections=[f\"{instrument}/raw/all\", f\"{instrument}/calib/unbounded\"],\n",
    "                          instrument=instrument)"
   ]
  },
  {
   "cell_type": "code",
   "execution_count": null,
   "id": "bb66c2c4",
   "metadata": {},
   "outputs": [],
   "source": [
    "day_obs = 20220511\n",
    "start_seq_num = 61\n",
    "end_seq_num = 63"
   ]
  },
  {
   "cell_type": "code",
   "execution_count": null,
   "id": "c0511bd1",
   "metadata": {},
   "outputs": [],
   "source": [
    "await fp.find_fingerprint(day_obs, start_seq_num, end_seq_num, \"auxtel\", butler)"
   ]
  },
  {
   "cell_type": "code",
   "execution_count": null,
   "id": "852cac98-cb69-4fd8-997e-ee3f1e501f99",
   "metadata": {},
   "outputs": [],
   "source": []
  }
 ],
 "metadata": {
  "kernelspec": {
   "display_name": "LSST",
   "language": "python",
   "name": "lsst"
  },
  "language_info": {
   "codemirror_mode": {
    "name": "ipython",
    "version": 3
   },
   "file_extension": ".py",
   "mimetype": "text/x-python",
   "name": "python",
   "nbconvert_exporter": "python",
   "pygments_lexer": "ipython3",
   "version": "3.8.13"
  }
 },
 "nbformat": 4,
 "nbformat_minor": 5
}
