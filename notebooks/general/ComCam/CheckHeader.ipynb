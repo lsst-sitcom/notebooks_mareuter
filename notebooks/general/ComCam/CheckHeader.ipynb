{
 "cells": [
  {
   "cell_type": "markdown",
   "metadata": {},
   "source": [
    "## ComCam Image Header Check"
   ]
  },
  {
   "cell_type": "code",
   "execution_count": null,
   "metadata": {},
   "outputs": [],
   "source": [
    "import logging\n",
    "import re\n",
    "import sys\n",
    "\n",
    "from astropy.time import Time, TimeDelta\n",
    "import numpy as np\n",
    "\n",
    "import lsst.daf.butler as dafButler\n",
    "from lsst_efd_client import EfdClient\n",
    "from lsst.ts.idl.enums import MTPtg as eMTPtg\n",
    "\n",
    "import lsst.sitcom.mareuter.header_checks as hc\n",
    "import lsst.sitcom.mareuter.header_utils as hu\n",
    "import lsst.sitcom.mareuter.site_efd as se\n",
    "\n",
    "run_logging = False"
   ]
  },
  {
   "cell_type": "code",
   "execution_count": null,
   "metadata": {},
   "outputs": [],
   "source": [
    "if run_logging:\n",
    "    stream_handler = logging.StreamHandler(sys.stdout)\n",
    "\n",
    "    logger = logging.getLogger()\n",
    "    logger.addHandler(stream_handler)\n",
    "    logger.level = logging.NOTSET\n",
    "    logging.getLogger(\"matplotlib\").setLevel(logging.WARNING)"
   ]
  },
  {
   "cell_type": "code",
   "execution_count": null,
   "metadata": {},
   "outputs": [],
   "source": [
    "efd_name = se.get_efd()\n",
    "collections = [\"LSSTComCam/raw/all\"]\n",
    "instrument = \"LSSTComCam\"\n",
    "butler = dafButler.Butler(instrument, collections=collections, instrument=instrument)\n",
    "client = EfdClient(efd_name)"
   ]
  },
  {
   "cell_type": "code",
   "execution_count": null,
   "metadata": {},
   "outputs": [],
   "source": [
    "day_obs = 20220701\n",
    "seq_num = 17\n",
    "raft_name = \"R22\"\n",
    "detector = 0\n",
    "dataId = {\"instrument\": instrument, \"detector.raft\": raft_name, \"detector.id\": detector,\n",
    "          \"exposure.day_obs\": day_obs, \"exposure.seq_num\": seq_num}\n",
    "raw = butler.get('raw.metadata', dataId)"
   ]
  },
  {
   "cell_type": "code",
   "execution_count": null,
   "metadata": {},
   "outputs": [],
   "source": [
    "header = raw.toDict()\n",
    "#print(header)"
   ]
  },
  {
   "cell_type": "code",
   "execution_count": null,
   "metadata": {},
   "outputs": [],
   "source": [
    "delta = TimeDelta(120.0, format=\"sec\", scale=\"tai\")\n",
    "obs_beg = Time(header[\"DATE-BEG\"], format=\"fits\", scale=\"tai\").utc\n",
    "obs_end = Time(header[\"DATE-END\"], format=\"fits\", scale=\"tai\").utc\n",
    "exp_time = TimeDelta(float(header[\"EXPTIME\"]), format=\"sec\", scale=\"tai\")\n",
    "obs_id = header[\"OBSID\"]\n",
    "print(f\"DATE-BEG: {header['DATE-BEG']}\")\n",
    "print(f\"DATE-END: {header['DATE-END']}\")\n",
    "print(f\"OBSID: {obs_id}\")"
   ]
  },
  {
   "cell_type": "code",
   "execution_count": null,
   "metadata": {},
   "outputs": [],
   "source": [
    "start_int_df = await client.select_time_series(\"lsst.sal.CCCamera.logevent_startIntegration\", \"*\",\n",
    "                                               obs_beg, delta, is_window=True)\n",
    "end_image_tel_df = await client.select_time_series(\"lsst.sal.CCCamera.logevent_endOfImageTelemetry\", \"*\",\n",
    "                                                   obs_end, delta, is_window=True)"
   ]
  },
  {
   "cell_type": "code",
   "execution_count": null,
   "metadata": {},
   "outputs": [],
   "source": [
    "print(f\"Start Integration Num Rows: {len(start_int_df)}\")\n",
    "print(f\"End of Image Telemetry Num Rows: {len(end_image_tel_df)}\")"
   ]
  },
  {
   "cell_type": "code",
   "execution_count": null,
   "metadata": {},
   "outputs": [],
   "source": [
    "start_int = start_int_df.loc[start_int_df[\"imageName\"] == obs_id]\n",
    "end_image_tel = end_image_tel_df.loc[end_image_tel_df[\"imageName\"] == obs_id]"
   ]
  },
  {
   "cell_type": "code",
   "execution_count": null,
   "metadata": {},
   "outputs": [],
   "source": [
    "date_obs = Time(hu.get_value(end_image_tel, \"timestampDateObs\"), format=\"unix_tai\", scale=\"tai\")\n",
    "date_end = Time(hu.get_value(end_image_tel, \"timestampDateEnd\"), format=\"unix_tai\", scale=\"tai\")\n",
    "date_start_int = Time(hu.get_value(start_int, \"private_sndStamp\"), format=\"unix_tai\", scale=\"tai\").utc\n",
    "date_eoit = Time(hu.get_value(end_image_tel, \"private_sndStamp\"), format=\"unix_tai\", scale=\"tai\").utc\n",
    "print(date_start_int.isot)\n",
    "print(date_eoit.isot)"
   ]
  },
  {
   "cell_type": "code",
   "execution_count": null,
   "metadata": {},
   "outputs": [],
   "source": [
    "hc.check(\"DATE-BEG\", header, date_obs.isot)\n",
    "hc.check(\"DATE-END\", header, date_end.isot)"
   ]
  },
  {
   "cell_type": "code",
   "execution_count": null,
   "metadata": {},
   "outputs": [],
   "source": [
    "date_diff = date_end - date_obs\n",
    "if date_diff.sec >= float(header[\"EXPTIME\"]):\n",
    "    print(\"DATE-END - DATE-BEG OK\")\n",
    "else:\n",
    "    print(f\"Problem with DATE-END - DATE-BEG: {date_diff.sec} seconds\")\n",
    "    print(f\"Exposure time: {header['EXPTIME']} seconds\")"
   ]
  },
  {
   "cell_type": "code",
   "execution_count": null,
   "metadata": {},
   "outputs": [],
   "source": [
    "image_readout_params_df = await client.select_top_n(\"lsst.sal.CCCamera.logevent_imageReadoutParameters\",\n",
    "                                                    \"*\", 1,\n",
    "                                                    time_cut=date_start_int.isot)\n",
    "meas_shutter_time_df = await client.select_top_n(\"lsst.sal.CCCamera.logevent_endOfImageTelemetry\", \"*\", 1,\n",
    "                                                 time_cut=date_eoit.isot)"
   ]
  },
  {
   "cell_type": "code",
   "execution_count": null,
   "metadata": {},
   "outputs": [],
   "source": [
    "hc.check(\"OBSID\", header, hu.get_value(start_int, \"imageName\"))\n",
    "hc.check(\"CAMCODE\", header, hu.get_value(start_int, \"imageSource\"))\n",
    "hc.check(\"CONTRLLR\", header, hu.get_value(start_int, \"imageController\"))\n",
    "hc.check(\"DAYOBS\", header, hu.get_value(start_int, \"imageDate\"))\n",
    "hc.check(\"SEQNUM\", header, hu.get_value(start_int, \"imageNumber\"))\n",
    "take_image_kv = hu.dict_from_additional(start_int)\n",
    "hc.check_take_image(\"GROUPID\", header, take_image_kv, \"groupId\")\n",
    "hc.check_take_image(\"IMGTYPE\", header, take_image_kv, \"imageType\")\n",
    "hc.check_take_image(\"TESTTYPE\", header, take_image_kv, \"testType\")\n",
    "hc.check_take_image(\"PROGRAM\", header, take_image_kv, \"program\")\n",
    "hc.check_take_image(\"REASON\", header, take_image_kv, \"reason\")\n",
    "hc.check(\"OBSANNOT\", header, hu.get_value(image_readout_params_df, \"daqAnnotation\"))\n",
    "hc.check(\"CURINDEX\", header, hu.get_value(start_int, \"imageIndex\"))\n",
    "hc.check(\"MAXINDEX\", header, hu.get_value(start_int, \"imagesInSequence\"))\n",
    "hc.check_not_empty(\"DETSIZE\", header)\n",
    "hc.check(\"OVERH\", header, hu.get_value(image_readout_params_df, \"overCols\"))\n",
    "hc.check(\"OVERV\", header, hu.get_value(image_readout_params_df, \"overRows\"))\n",
    "hc.check(\"PREH\", header, hu.get_value(image_readout_params_df, \"preCols\"))\n",
    "hc.check_float(\"EXPTIME\", header, hu.get_value(start_int, \"exposureTime\"))\n",
    "hc.check_float(\"DARKTIME\", header, hu.get_value(end_image_tel, \"darkTime\"), precision=1e-5)\n",
    "hc.check_float(\"SHUTTIME\", header, hu.get_value(meas_shutter_time_df, \"measuredShutterOpenTime\"))"
   ]
  },
  {
   "cell_type": "code",
   "execution_count": null,
   "metadata": {},
   "outputs": [],
   "source": [
    "current_target_df = await client.select_top_n(\"lsst.sal.MTPtg.logevent_currentTarget\", \n",
    "                                              [\"declination\", \"frame\", \"ra\", \"rotPA\",\n",
    "                                               \"targetName\", \"targetType\"], 1,\n",
    "                                              time_cut=date_start_int.isot)\n",
    "current_target_status_start_df = await client.select_top_n(\"lsst.sal.MTPtg.currentTargetStatus\", \n",
    "                                                           [\"airmass\", \"ha\"], 1,\n",
    "                                                     time_cut=date_start_int.isot)\n",
    "current_target_status_end_df = await client.select_top_n(\"lsst.sal.MTPtg.currentTargetStatus\",\n",
    "                                                         [\"airmass\", \"ha\"], 1,\n",
    "                                                     time_cut=date_eoit.isot)\n",
    "mount_positions_start_df = await client.select_top_n(\"lsst.sal.MTPtg.mountPosition\", [\"declination\", \"ra\"], 1,\n",
    "                                                     time_cut=date_start_int.isot)\n",
    "mount_positions_end_df = await client.select_top_n(\"lsst.sal.MTPtg.mountPosition\", [\"declination\", \"ra\"], 1,\n",
    "                                                   time_cut=date_eoit.isot)\n",
    "mount_az_start_df = await client.select_top_n(\"lsst.sal.MTMount.azimuth\", \"actualPosition\", 1,\n",
    "                                              time_cut=date_start_int.isot)\n",
    "mount_az_end_df = await client.select_top_n(\"lsst.sal.MTMount.azimuth\", \"actualPosition\", 1,\n",
    "                                            time_cut=date_eoit.isot)\n",
    "mount_el_start_df = await client.select_top_n(\"lsst.sal.MTMount.elevation\", \"actualPosition\", 1,\n",
    "                                              time_cut=date_start_int.isot)\n",
    "mount_el_end_df = await client.select_top_n(\"lsst.sal.MTMount.elevation\", \"actualPosition\", 1,\n",
    "                                            time_cut=date_eoit.isot)\n",
    "hexapod_app_df = await client.select_top_n(\"lsst.sal.MTHexapod.application\", \"demand1\", 1,\n",
    "                                           time_cut=date_start_int.isot, index=1)"
   ]
  },
  {
   "cell_type": "code",
   "execution_count": null,
   "metadata": {},
   "outputs": [],
   "source": [
    "hc.check(\"OBJECT\", header, hu.get_value(current_target_df, \"targetName\"))\n",
    "hc.check_float(\"ROTPA\", header, hu.get_value(current_target_df, \"rotPA\"))\n",
    "hc.check(\"ROTCOORD\", header, \"sky\")\n",
    "if header[\"IMGTYPE\"] in [\"OBJECT\", \"ENGTEST\"]:\n",
    "    hc.check_float(\"RA\", header, np.degrees(hu.get_value(current_target_df, \"ra\")))\n",
    "    hc.check_float(\"DEC\", header, np.degrees(hu.get_value(current_target_df, \"declination\")))\n",
    "    hc.check_float(\"RASTART\", header, hu.get_value(mount_positions_start_df, \"ra\"))\n",
    "    hc.check_float(\"RAEND\", header, hu.get_value(mount_positions_end_df, \"ra\"))\n",
    "    hc.check_near(\"RA\", \"RASTART\", header, 0.5)\n",
    "    hc.check_near(\"RA\", \"RAEND\", header, 0.5)\n",
    "    hc.check_float(\"DECSTART\", header, hu.get_value(mount_positions_start_df, \"declination\"))\n",
    "    hc.check_float(\"DECEND\", header, hu.get_value(mount_positions_end_df, \"declination\"))\n",
    "    hc.check_near(\"DEC\", \"DECSTART\", header, 0.1)\n",
    "    hc.check_near(\"DEC\", \"DECEND\", header, 0.1)\n",
    "    hc.check_float(\"HASTART\", header, hu.get_value(current_target_status_start_df, \"ha\"))\n",
    "    hc.check_float(\"HAEND\", header, hu.get_value(current_target_status_end_df, \"ha\"))\n",
    "    hc.check_float(\"AMSTART\", header, hu.get_value(current_target_status_start_df, \"airmass\"))\n",
    "    hc.check_float(\"AMEND\", header, hu.get_value(current_target_status_end_df, \"airmass\"))  \n",
    "else:\n",
    "    print(f\"No check on RA/DEC for {header['IMGTYPE']}\")\n",
    "hc.check_float(\"AZSTART\", header, hu.get_value(mount_az_start_df, \"actualPosition\"))\n",
    "hc.check_float(\"AZEND\", header, hu.get_value(mount_az_end_df, \"actualPosition\"))\n",
    "hc.check_float(\"ELSTART\", header, hu.get_value(mount_el_start_df, \"actualPosition\"))\n",
    "hc.check_float(\"ELEND\", header, hu.get_value(mount_el_end_df, \"actualPosition\"))\n",
    "hc.check_float(\"FOCUSZ\", header, hu.get_value(hexapod_app_df, \"demand1\"))\n",
    "hc.check(\"TRACKSYS\", header, eMTPtg.TargetTypes(hu.get_value(current_target_df, \"targetType\")).name)\n",
    "hc.check(\"RADESYS\", header, eMTPtg.CoordFrame(hu.get_value(current_target_df, \"frame\")).name)"
   ]
  },
  {
   "cell_type": "code",
   "execution_count": null,
   "metadata": {},
   "outputs": [],
   "source": [
    "sim_mtmount_df = await client.select_top_n(\"lsst.sal.MTMount.logevent_simulationMode\", \"mode\", 1,\n",
    "                                           time_cut=date_start_int.isot)\n",
    "sim_mtm1m3_df = await client.select_top_n(\"lsst.sal.MTM1M3.logevent_simulationMode\", \"mode\", 1,\n",
    "                                          time_cut=date_start_int.isot)\n",
    "sim_mtm2_df = await client.select_top_n(\"lsst.sal.MTM2.logevent_simulationMode\", \"mode\", 1,\n",
    "                                        time_cut=date_start_int.isot)\n",
    "sim_mtcamhex_df = await client.select_top_n(\"lsst.sal.MTHexapod.logevent_simulationMode\", \"mode\", 1,\n",
    "                                            time_cut=date_start_int.isot, index=1)\n",
    "sim_mtm2hex_df = await client.select_top_n(\"lsst.sal.MTHexapod.logevent_simulationMode\", \"mode\", 1,\n",
    "                                           time_cut=date_start_int.isot, index=2)\n",
    "sim_mtrotator_df = await client.select_top_n(\"lsst.sal.MTRotator.logevent_simulationMode\", \"mode\", 1,\n",
    "                                             time_cut=date_start_int.isot)\n",
    "sim_mtdome_df = await client.select_top_n(\"lsst.sal.MTDome.logevent_simulationMode\", \"mode\", 1,\n",
    "                                          time_cut=date_start_int.isot)\n",
    "sim_mtdometraj_df = await client.select_top_n(\"lsst.sal.MTDomeTrajectory.logevent_simulationMode\", \"mode\", 1,\n",
    "                                              time_cut=date_start_int.isot)"
   ]
  },
  {
   "cell_type": "code",
   "execution_count": null,
   "metadata": {},
   "outputs": [],
   "source": [
    "hc.check(\"SIMULATE MTMOUNT\", header, hu.get_value(sim_mtmount_df, \"mode\"))\n",
    "hc.check(\"SIMULATE MTM1M3\", header, hu.get_value(sim_mtm1m3_df, \"mode\"))\n",
    "hc.check(\"SIMULATE MTM2\", header, hu.get_value(sim_mtm2_df, \"mode\"))\n",
    "hc.check(\"SIMULATE CAMHEXAPOD\", header, hu.get_value(sim_mtcamhex_df, \"mode\"))\n",
    "hc.check(\"SIMULATE M2HEXAPOD\", header, hu.get_value(sim_mtm2hex_df, \"mode\"))\n",
    "hc.check(\"SIMULATE MTROTATOR\", header, hu.get_value(sim_mtrotator_df, \"mode\"))\n",
    "hc.check(\"SIMULATE MTDOME\", header, hu.get_value(sim_mtdome_df, \"mode\"))\n",
    "hc.check(\"SIMULATE MTDOMETRAJECTORY\", header, hu.get_value(sim_mtdometraj_df, \"mode\"))"
   ]
  },
  {
   "cell_type": "code",
   "execution_count": null,
   "metadata": {},
   "outputs": [],
   "source": [
    "filter_pos_df = await client.select_top_n(\"lsst.sal.CCCamera.logevent_endSetFilter\", \"*\", 1,\n",
    "                                          time_cut=date_start_int.isot)"
   ]
  },
  {
   "cell_type": "code",
   "execution_count": null,
   "metadata": {},
   "outputs": [],
   "source": [
    "hc.check(\"FILTBAND\", header, hu.get_value(filter_pos_df, \"filterType\"))\n",
    "hc.check(\"FILTER\", header, hu.get_value(filter_pos_df, \"filterName\"))\n",
    "hc.check(\"FILTSLOT\", header, hu.get_value(filter_pos_df, \"filterSlot\"))\n",
    "hc.check(\"FILTPOS\", header, hu.get_value(filter_pos_df, \"filterPosition\"))"
   ]
  },
  {
   "cell_type": "code",
   "execution_count": null,
   "metadata": {},
   "outputs": [],
   "source": [
    "focal_plane_info_df = await client.select_top_n(\"lsst.sal.CCCamera.logevent_focalPlaneSummaryInfo\", \"*\", 1,\n",
    "                                                time_cut=date_start_int.isot)\n",
    "fp_ccd_df = await client.select_top_n(\"lsst.sal.CCCamera.focal_plane_Ccd\", \"*\", 1,\n",
    "                                      time_cut=date_start_int.isot)"
   ]
  },
  {
   "cell_type": "code",
   "execution_count": null,
   "metadata": {},
   "outputs": [],
   "source": [
    "hc.check(\"CCD_MANU\", header, hu.get_value(focal_plane_info_df, \"ccdManufacturer\"), index=detector)\n",
    "hc.check(\"CCD_TYPE\", header, hu.get_value(focal_plane_info_df, f\"ccdType{detector}\"))\n",
    "hc.check(\"CCD_SERN\", header, hu.get_value(focal_plane_info_df, \"ccdManSerNum\"), index=detector)\n",
    "hc.check(\"LSST_NUM\", header, hu.get_value(focal_plane_info_df, \"ccdLSSTName\"), index=detector)\n",
    "hc.check(\"CCDSLOT\", header, hu.get_value(focal_plane_info_df, \"ccdSlot\"), index=detector)\n",
    "hc.check(\"RAFTBAY\", header, hu.get_value(focal_plane_info_df, \"raftBay\"), index=detector)\n",
    "hc.check(\"SEQCKSUM\", header, hu.get_value(focal_plane_info_df, \"sequencerChecksum\"), index=detector)\n",
    "hc.check(\"SEQNAME\", header, hu.get_value(focal_plane_info_df, \"sequencerKey\"), index=detector)\n",
    "hc.check(\"REBNAME\", header, hu.get_value(focal_plane_info_df, \"rebLSSTName\"), index=detector)\n",
    "hc.check(\"CONTNUM\", header, hu.get_value(focal_plane_info_df, \"rebSerialNumber\"), index=detector)\n",
    "hc.check_float(\"CCDTEMP\", header, hu.get_value(fp_ccd_df, f\"temp{detector}\"))\n",
    "hc.check_float(\"TEMP_SET\", header, hu.get_value(focal_plane_info_df, f\"ccdTempSetPoint{detector}\"))"
   ]
  },
  {
   "cell_type": "code",
   "execution_count": null,
   "metadata": {},
   "outputs": [],
   "source": [
    "hc.check(\"FACILITY\", header, \"Vera C. Rubin Observatory\")\n",
    "hc.check_not_empty(\"DATE\", header)\n",
    "hc.check_not_empty(\"MJD-OBS\", header)\n",
    "hc.check_not_empty(\"MJD-BEG\", header)\n",
    "hc.check_not_empty(\"MJD-END\", header)\n",
    "hc.check(\"BUNIT\", header, \"adu\")\n",
    "hc.check(\"TELESCOP\", header, \"Simonyi Survey Telescope\")\n",
    "hc.check(\"INSTRUME\", header, \"ComCam\")\n",
    "hc.check(\"OBSERVER\", header, \"LSST\")\n",
    "hc.check_float(\"OBS-LONG\", header, -70.749417)\n",
    "hc.check_float(\"OBS-LAT\", header, -30.244639)\n",
    "hc.check_float(\"OBS-ELEV\", header, 2663.0)\n",
    "hc.check_float(\"OBSGEO-X\", header, 1818938.94)\n",
    "hc.check_float(\"OBSGEO-Y\", header, -5208470.95)\n",
    "hc.check_float(\"OBSGEO-Z\", header, -3195172.08)\n",
    "hc.check_not_empty(\"FILENAME\", header)\n",
    "hc.check_not_empty(\"HEADVER\", header)\n",
    "hc.check_not_empty(\"TSTAND\", header)\n",
    "hc.check_not_empty(\"CHECKSUM\", header)\n",
    "hc.check_not_empty(\"DATASUM\", header)\n",
    "hc.check(\"TIMESYS\", header, \"TAI\")"
   ]
  },
  {
   "cell_type": "code",
   "execution_count": null,
   "metadata": {},
   "outputs": [],
   "source": [
    "# Segment headers\n",
    "hc.check(\"XTENSION\", header, \"IMAGE\")\n",
    "hc.check(\"BITPIX\", header, 32)\n",
    "hc.check(\"INHERIT\", header, True)\n",
    "hc.check(\"PCOUNT\", header, 0)\n",
    "hc.check(\"GCOUNT\", header, 1)\n",
    "hc.check_not_empty(\"EXTNAME\", header)\n",
    "hc.check_not_empty(\"DATASEC\", header)\n",
    "hc.check_not_empty(\"DETSEC\", header)\n",
    "hc.check_not_empty(\"DTV1\", header)\n",
    "hc.check_not_empty(\"DTV2\", header)\n",
    "hc.check_not_empty(\"DTM1_1\", header)\n",
    "hc.check_not_empty(\"DTM1_2\", header)\n",
    "hc.check_not_empty(\"DTM2_1\", header)\n",
    "hc.check_not_empty(\"DTM2_2\", header)"
   ]
  },
  {
   "cell_type": "code",
   "execution_count": null,
   "metadata": {},
   "outputs": [],
   "source": []
  }
 ],
 "metadata": {
  "kernelspec": {
   "display_name": "LSST",
   "language": "python",
   "name": "lsst"
  },
  "language_info": {
   "codemirror_mode": {
    "name": "ipython",
    "version": 3
   },
   "file_extension": ".py",
   "mimetype": "text/x-python",
   "name": "python",
   "nbconvert_exporter": "python",
   "pygments_lexer": "ipython3",
   "version": "3.10.4"
  }
 },
 "nbformat": 4,
 "nbformat_minor": 4
}
