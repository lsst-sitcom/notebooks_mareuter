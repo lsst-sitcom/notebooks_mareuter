{
 "cells": [
  {
   "cell_type": "markdown",
   "id": "851b5114-6cfb-4d3d-a2e9-1b246efccd24",
   "metadata": {},
   "source": [
    "This notebook gathers the per amp medians from the CCD for a given set of images. This information can be used to fingerprint a particular simulated image."
   ]
  },
  {
   "cell_type": "code",
   "execution_count": null,
   "id": "0af4c08c-8098-4d6d-89be-a4ebcb27170a",
   "metadata": {},
   "outputs": [],
   "source": [
    "import lsst.daf.butler as dafButler\n",
    "import lsst.sitcom.mareuter.fingerprinting as fp\n",
    "import lsst.sitcom.mareuter.playlist_info.comcam as cc"
   ]
  },
  {
   "cell_type": "code",
   "execution_count": null,
   "id": "7596c8ed-b202-4fb1-8d09-c2ad913a952c",
   "metadata": {},
   "outputs": [],
   "source": [
    "instrument = \"LSSTComCam\"\n",
    "collections = [\"LSSTComCam/raw/all\", \"LSSTComCam/calib/unbounded\"]\n",
    "butler = dafButler.Butler(instrument, collections=collections, instrument=instrument)"
   ]
  },
  {
   "cell_type": "code",
   "execution_count": null,
   "id": "1c782a9b-0003-437a-8b64-19c81dd0215d",
   "metadata": {},
   "outputs": [],
   "source": [
    "playlist = cc.TTS_PLAYLISTS[\"bias\"]"
   ]
  },
  {
   "cell_type": "code",
   "execution_count": null,
   "id": "ddd3adf4-4cc0-416a-aa24-68a057c85c9b",
   "metadata": {},
   "outputs": [],
   "source": [
    "await fp.create_fingerprints(\"comcam\", playlist, butler)"
   ]
  },
  {
   "cell_type": "code",
   "execution_count": null,
   "id": "9c6ec8f8-ce19-4a1e-9899-db0014144640",
   "metadata": {},
   "outputs": [],
   "source": []
  }
 ],
 "metadata": {
  "kernelspec": {
   "display_name": "LSST",
   "language": "python",
   "name": "lsst"
  },
  "language_info": {
   "codemirror_mode": {
    "name": "ipython",
    "version": 3
   },
   "file_extension": ".py",
   "mimetype": "text/x-python",
   "name": "python",
   "nbconvert_exporter": "python",
   "pygments_lexer": "ipython3",
   "version": "3.8.12"
  }
 },
 "nbformat": 4,
 "nbformat_minor": 5
}
