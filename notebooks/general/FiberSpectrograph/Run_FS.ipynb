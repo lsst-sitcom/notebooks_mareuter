{
 "cells": [
  {
   "cell_type": "code",
   "execution_count": null,
   "id": "54688033-7a91-4b85-89ee-35517c4fb3ff",
   "metadata": {},
   "outputs": [],
   "source": [
    "import asyncio\n",
    "import sys\n",
    "\n",
    "from lsst.ts import salobj"
   ]
  },
  {
   "cell_type": "code",
   "execution_count": null,
   "id": "2b50adee-eb22-4c96-9216-d17c16baf066",
   "metadata": {},
   "outputs": [],
   "source": [
    "d = salobj.Domain()\n",
    "await asyncio.sleep(10)"
   ]
  },
  {
   "cell_type": "code",
   "execution_count": null,
   "id": "a3ffacae-675b-489b-8f80-9e55695e84fd",
   "metadata": {},
   "outputs": [],
   "source": [
    "fs_index = 3"
   ]
  },
  {
   "cell_type": "code",
   "execution_count": null,
   "id": "aa06e38a-333d-417b-ade7-8aaadceb0486",
   "metadata": {},
   "outputs": [],
   "source": [
    "FS = salobj.Remote(d, \"FiberSpectrograph\", index=fs_index)\n",
    "await FS.start_task"
   ]
  },
  {
   "cell_type": "code",
   "execution_count": null,
   "id": "8674019d-50e7-41ea-8ea8-6fe1bf33bdd7",
   "metadata": {},
   "outputs": [],
   "source": [
    "kw = {\n",
    "    \"duration\": 3,\n",
    "    \"numExposures\": 1\n",
    "}\n",
    "timeout = 120"
   ]
  },
  {
   "cell_type": "code",
   "execution_count": null,
   "id": "65f012f7-88c8-4f4b-bf99-c6d6a191c126",
   "metadata": {},
   "outputs": [],
   "source": [
    "ack = await FS.cmd_expose.set_start(**kw, timeout=timeout)\n",
    "print(ack)"
   ]
  },
  {
   "cell_type": "code",
   "execution_count": null,
   "id": "f321ce6d-2d4f-473a-aaf8-3becf93320d3",
   "metadata": {},
   "outputs": [],
   "source": [
    "csc_state = salobj.State.STANDBY"
   ]
  },
  {
   "cell_type": "code",
   "execution_count": null,
   "id": "262fe8c5-3f03-408a-a395-d53e33648099",
   "metadata": {},
   "outputs": [],
   "source": [
    "await salobj.set_summary_state(FS, csc_state)"
   ]
  },
  {
   "cell_type": "code",
   "execution_count": null,
   "id": "e9af9717-0523-46a3-b153-4f8b01aa03a5",
   "metadata": {},
   "outputs": [],
   "source": []
  }
 ],
 "metadata": {
  "kernelspec": {
   "display_name": "LSST",
   "language": "python",
   "name": "lsst"
  },
  "language_info": {
   "codemirror_mode": {
    "name": "ipython",
    "version": 3
   },
   "file_extension": ".py",
   "mimetype": "text/x-python",
   "name": "python",
   "nbconvert_exporter": "python",
   "pygments_lexer": "ipython3",
   "version": "3.11.11"
  }
 },
 "nbformat": 4,
 "nbformat_minor": 5
}
