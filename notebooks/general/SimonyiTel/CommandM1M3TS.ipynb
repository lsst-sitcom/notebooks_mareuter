{
 "cells": [
  {
   "cell_type": "code",
   "execution_count": null,
   "id": "3f1bd9e8-5025-4c59-bba1-4ff76098a876",
   "metadata": {},
   "outputs": [],
   "source": [
    "import asyncio\n",
    "import logging\n",
    "import sys\n",
    "\n",
    "from lsst.ts import salobj"
   ]
  },
  {
   "cell_type": "code",
   "execution_count": null,
   "id": "8aef4d88-f199-4660-9f9e-b51eab2dc917",
   "metadata": {},
   "outputs": [],
   "source": [
    "stream_handler = logging.StreamHandler(sys.stdout)\n",
    "\n",
    "logger = logging.getLogger()\n",
    "logger.addHandler(stream_handler)\n",
    "logger.level = logging.DEBUG"
   ]
  },
  {
   "cell_type": "code",
   "execution_count": null,
   "id": "ffbe0248-fe0a-4944-91d0-06b076d94314",
   "metadata": {},
   "outputs": [],
   "source": [
    "domain = salobj.Domain()\n",
    "await asyncio.sleep(10)"
   ]
  },
  {
   "cell_type": "code",
   "execution_count": null,
   "id": "fbdc62f3-b8b5-4c69-8801-cca2cd026e5b",
   "metadata": {},
   "outputs": [],
   "source": [
    "m1m3ts = salobj.Remote(domain, \"MTM1M3TS\")\n",
    "await m1m3ts.start_task"
   ]
  },
  {
   "cell_type": "code",
   "execution_count": null,
   "id": "a69eecba-1aaf-4cd3-8d1e-335b0276f6f0",
   "metadata": {},
   "outputs": [],
   "source": [
    "ack = await m1m3ts.cmd_applySetpoints.set_start(glycolSetpoint=5.0, heatersSetpoint=5.0)\n",
    "print(ack)"
   ]
  },
  {
   "cell_type": "code",
   "execution_count": null,
   "id": "b383bf09-aade-4433-91e0-eb44f1f8a0e2",
   "metadata": {},
   "outputs": [],
   "source": []
  }
 ],
 "metadata": {
  "kernelspec": {
   "display_name": "LSST",
   "language": "python",
   "name": "lsst"
  },
  "language_info": {
   "codemirror_mode": {
    "name": "ipython",
    "version": 3
   },
   "file_extension": ".py",
   "mimetype": "text/x-python",
   "name": "python",
   "nbconvert_exporter": "python",
   "pygments_lexer": "ipython3",
   "version": "3.12.10"
  }
 },
 "nbformat": 4,
 "nbformat_minor": 5
}
