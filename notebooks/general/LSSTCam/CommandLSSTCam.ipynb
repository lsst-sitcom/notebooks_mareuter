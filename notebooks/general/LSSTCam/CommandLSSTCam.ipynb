{
 "cells": [
  {
   "cell_type": "code",
   "execution_count": null,
   "id": "f7b5d95f-bba4-4a2b-be69-e3ee11bb9344",
   "metadata": {},
   "outputs": [],
   "source": [
    "import asyncio\n",
    "import logging\n",
    "import sys\n",
    "\n",
    "from lsst.ts import salobj\n",
    "from lsst.ts.observatory.control.maintel.lsstcam import LSSTCam"
   ]
  },
  {
   "cell_type": "code",
   "execution_count": null,
   "id": "6dd0177c-07dd-4a10-9ccc-def39983abce",
   "metadata": {},
   "outputs": [],
   "source": [
    "stream_handler = logging.StreamHandler(sys.stdout)\n",
    "\n",
    "logger = logging.getLogger()\n",
    "logger.addHandler(stream_handler)\n",
    "logger.level = logging.DEBUG"
   ]
  },
  {
   "cell_type": "code",
   "execution_count": null,
   "id": "f849d1b1-abda-4d42-b1d4-efea6979ba93",
   "metadata": {},
   "outputs": [],
   "source": [
    "domain = salobj.Domain()\n",
    "await asyncio.sleep(10)"
   ]
  },
  {
   "cell_type": "code",
   "execution_count": null,
   "id": "2398a702-b364-484e-a3b9-f0e8c5aa2c07",
   "metadata": {},
   "outputs": [],
   "source": [
    "lc = LSSTCam(domain)\n",
    "await lc.start_task"
   ]
  },
  {
   "cell_type": "code",
   "execution_count": null,
   "id": "0188e635-fdff-403f-a10a-d89327e6a55c",
   "metadata": {},
   "outputs": [],
   "source": [
    "await lc.take_bias(nbias=1, program=\"IntegrationTesting\", reason=\"CSCTesting\")"
   ]
  }
 ],
 "metadata": {
  "kernelspec": {
   "display_name": "LSST",
   "language": "python",
   "name": "lsst"
  },
  "language_info": {
   "codemirror_mode": {
    "name": "ipython",
    "version": 3
   },
   "file_extension": ".py",
   "mimetype": "text/x-python",
   "name": "python",
   "nbconvert_exporter": "python",
   "pygments_lexer": "ipython3",
   "version": "3.11.10"
  }
 },
 "nbformat": 4,
 "nbformat_minor": 5
}
