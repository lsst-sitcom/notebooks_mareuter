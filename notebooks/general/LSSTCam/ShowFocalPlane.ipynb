{
 "cells": [
  {
   "cell_type": "code",
   "execution_count": null,
   "id": "25ac1ad3-4922-4da9-b5bf-25a4c07f179d",
   "metadata": {},
   "outputs": [],
   "source": [
    "import logging\n",
    "import sys\n",
    "\n",
    "import matplotlib.pyplot as plt\n",
    "import numpy as np\n",
    "\n",
    "import lsst.afw.cameraGeom.utils as camGeomUtils\n",
    "import lsst.afw.display as afwDisplay\n",
    "import lsst.daf.butler as dafButler\n",
    "\n",
    "%matplotlib inline \n",
    "%config InlineBackend.figure_format = 'retina'\n",
    "\n",
    "afwDisplay.setDefaultBackend(\"matplotlib\")"
   ]
  },
  {
   "cell_type": "code",
   "execution_count": null,
   "id": "88cfbd84-27b1-4c71-b85b-9a4444796e85",
   "metadata": {},
   "outputs": [],
   "source": [
    "def myCallback(im, ccd, imageSource):\n",
    "    \"\"\"Assemble the CCD image.  Just bias subtraction and gain correction\"\"\"\n",
    "    oim = camGeomUtils.rawCallback(im, ccd, imageSource,\n",
    "                                   subtractBias=False, correctGain=False)\n",
    "    return oim"
   ]
  },
  {
   "cell_type": "code",
   "execution_count": null,
   "id": "9c0be0c3-dc10-487f-9d91-f6284ed7a840",
   "metadata": {},
   "outputs": [],
   "source": [
    "dataPath = \"/repo/embargo\"\n",
    "instrument = \"LSSTCam\"\n",
    "butler = dafButler.Butler(dataPath, \n",
    "                          collections=[\"LSSTCam/raw/all\", \"LSSTCam/calib/DM-49832/unbounded\", \"LSSTCam/runs/nightlyValidation\"],\n",
    "                          instrument=instrument)"
   ]
  },
  {
   "cell_type": "code",
   "execution_count": null,
   "id": "807ed06d-5976-4edd-a79f-d602e4484792",
   "metadata": {},
   "outputs": [],
   "source": [
    "day_obs = 20250415\n",
    "seq_num = 60\n",
    "dataId = {\"instrument\": instrument,\n",
    "          \"exposure.day_obs\": day_obs, \"exposure.seq_num\": seq_num}\n",
    "# dataType = 'raw'\n",
    "# dataType = 'post_isr_image'\n",
    "dataType = 'preliminary_visit_image'\n",
    "if dataType == 'raw':\n",
    "    callback = myCallback\n",
    "else:\n",
    "    callback = None"
   ]
  },
  {
   "cell_type": "code",
   "execution_count": null,
   "id": "73c19fd8-aa0d-47c9-bf4e-747d99a5a6b1",
   "metadata": {},
   "outputs": [],
   "source": [
    "camera = butler.get('camera', instrument=instrument)"
   ]
  },
  {
   "cell_type": "code",
   "execution_count": null,
   "id": "89946aba-d72e-40a9-b584-8be6dd6908dc",
   "metadata": {},
   "outputs": [],
   "source": [
    "fig = plt.figure(figsize=(12,12))\n",
    "disp = afwDisplay.Display(1, \"matplotlib\")\n",
    "disp.scale('asinh', 'zscale')\n",
    "\n",
    "mos = camGeomUtils.showCamera(camera,\n",
    "                              camGeomUtils.ButlerImage(butler, dataType, \n",
    "                                                       instrument=instrument,\n",
    "                                                       day_obs=day_obs, seq_num=seq_num,\n",
    "                                                       verbose=True, callback=callback,\n",
    "                                                       background=np.nan),\n",
    "                              binSize=16, display=disp, overlay=False,\n",
    "                              title=\"%d %d %s\" % (day_obs, seq_num, dataType))"
   ]
  },
  {
   "cell_type": "code",
   "execution_count": null,
   "id": "432a403b-c1f1-4b0a-b4a9-96b9c8763c08",
   "metadata": {},
   "outputs": [],
   "source": [
    "# fig.savefig(\"pvi_img.png\")"
   ]
  },
  {
   "cell_type": "code",
   "execution_count": null,
   "id": "7009b412-89ac-445d-a3de-b41c4d9fbc66",
   "metadata": {},
   "outputs": [],
   "source": []
  }
 ],
 "metadata": {
  "kernelspec": {
   "display_name": "LSST",
   "language": "python",
   "name": "lsst"
  },
  "language_info": {
   "codemirror_mode": {
    "name": "ipython",
    "version": 3
   },
   "file_extension": ".py",
   "mimetype": "text/x-python",
   "name": "python",
   "nbconvert_exporter": "python",
   "pygments_lexer": "ipython3",
   "version": "3.12.9"
  }
 },
 "nbformat": 4,
 "nbformat_minor": 5
}
