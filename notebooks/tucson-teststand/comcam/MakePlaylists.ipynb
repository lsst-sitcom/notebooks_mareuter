{
 "cells": [
  {
   "cell_type": "markdown",
   "id": "3a39fcb2-c254-4b8c-9313-9f8b88e49edd",
   "metadata": {},
   "source": [
    "# Generate CCCamera Playlists for Tucson Teststand"
   ]
  },
  {
   "cell_type": "code",
   "execution_count": null,
   "id": "6395b972-3d7f-47a8-801a-f0689c4e09bc",
   "metadata": {},
   "outputs": [],
   "source": [
    "import asyncio\n",
    "import logging\n",
    "import sys\n",
    "\n",
    "from lsst.ts import salobj\n",
    "from lsst.sitcom.mareuter.playlist_info.comcam import TTS_PLAYLISTS"
   ]
  },
  {
   "cell_type": "code",
   "execution_count": null,
   "id": "6790b931-318b-4b65-a6af-5ae7ccf1d8e4",
   "metadata": {},
   "outputs": [],
   "source": [
    "domain = salobj.Domain()\n",
    "await asyncio.sleep(10)"
   ]
  },
  {
   "cell_type": "code",
   "execution_count": null,
   "id": "b499dd67-b78d-4e0e-942a-7336661dc574",
   "metadata": {},
   "outputs": [],
   "source": [
    "CCCamera = salobj.Remote(domain, 'CCCamera')\n",
    "await CCCamera.start_task"
   ]
  },
  {
   "cell_type": "code",
   "execution_count": null,
   "id": "c968ab9e-1d02-48dd-93ac-3e6f5e9e5cff",
   "metadata": {},
   "outputs": [],
   "source": [
    "# Create default playlist\n",
    "playlist = TTS_PLAYLISTS[\"default\"]\n",
    "ack = await CCCamera.cmd_playlist.set_start(playlist=\"default.playlist\",\n",
    "                                            folder=playlist.daq_folder,\n",
    "                                            images=playlist.get_image_names_as_string(),\n",
    "                                            timeout=60)\n",
    "print(ack)"
   ]
  },
  {
   "cell_type": "code",
   "execution_count": null,
   "id": "a4b2df50-b5d7-47a4-af8c-841a05d2948c",
   "metadata": {
    "tags": []
   },
   "outputs": [],
   "source": [
    "# Create single image playlists from default images\n",
    "playlist = TTS_PLAYLISTS[\"default\"]\n",
    "images = playlist.get_image_names()\n",
    "for image in images:\n",
    "    ack = await CCCamera.cmd_playlist.set_start(playlist=f\"{image}.playlist\",\n",
    "                                                folder=playlist.daq_folder,\n",
    "                                                images=image,\n",
    "                                                timeout=60)\n",
    "    print(ack)"
   ]
  },
  {
   "cell_type": "code",
   "execution_count": null,
   "id": "c67f30f2-8db2-47fa-b405-1ac3527bce7b",
   "metadata": {},
   "outputs": [],
   "source": [
    "# Create bias playlist\n",
    "playlist = TTS_PLAYLISTS[\"bias\"]\n",
    "ack = await CCCamera.cmd_playlist.set_start(playlist=\"bias.playlist\",\n",
    "                                            folder=playlist.daq_folder,\n",
    "                                            images=playlist.get_image_names_as_string(),\n",
    "                                            timeout=60)\n",
    "print(ack)"
   ]
  },
  {
   "cell_type": "code",
   "execution_count": null,
   "id": "2a6b239a-a3df-4aa7-b7fd-cf9214503594",
   "metadata": {},
   "outputs": [],
   "source": [
    "# Create dark playlist\n",
    "playlist = TTS_PLAYLISTS[\"dark\"]\n",
    "ack = await CCCamera.cmd_playlist.set_start(playlist=\"dark.playlist\",\n",
    "                                            folder=playlist.daq_folder,\n",
    "                                            images=playlist.get_image_names_as_string(),\n",
    "                                            timeout=60)\n",
    "print(ack)"
   ]
  },
  {
   "cell_type": "code",
   "execution_count": null,
   "id": "add43c0f-6482-4a91-acaf-255528d3f793",
   "metadata": {},
   "outputs": [],
   "source": [
    "# Create flat playlist\n",
    "playlist = TTS_PLAYLISTS[\"flat\"]\n",
    "ack = await CCCamera.cmd_playlist.set_start(playlist=\"flat.playlist\",\n",
    "                                            folder=playlist.daq_folder,\n",
    "                                            images=playlist.get_image_names_as_string(),\n",
    "                                            timeout=60)\n",
    "print(ack)"
   ]
  },
  {
   "cell_type": "code",
   "execution_count": null,
   "id": "ac59fde0-7f4b-4fce-9734-a714a8d44162",
   "metadata": {},
   "outputs": [],
   "source": [
    "# Create combined calibration playlist\n",
    "biases = TTS_PLAYLISTS[\"bias\"]\n",
    "darks = TTS_PLAYLISTS[\"dark\"]\n",
    "flats = TTS_PLAYLISTS[\"flat\"]\n",
    "ack = await CCCamera.cmd_playlist.set_start(playlist=\"bias_dark.playlist\",\n",
    "                                            folder=biases.daq_folder,\n",
    "                                            images=\":\".join(biases.get_image_names() +\n",
    "                                                            darks.get_image_names()),\n",
    "                                            timeout=60)\n",
    "print(ack)\n",
    "ack = await CCCamera.cmd_playlist.set_start(playlist=\"bias_dark_flat.playlist\",\n",
    "                                            folder=biases.daq_folder,\n",
    "                                            images=\":\".join(biases.get_image_names() +\n",
    "                                                            darks.get_image_names() +\n",
    "                                                            flats.get_image_names()),\n",
    "                                            timeout=60)\n",
    "print(ack)"
   ]
  },
  {
   "cell_type": "code",
   "execution_count": null,
   "id": "b8863b47-3f67-4d87-b816-78d87d21d844",
   "metadata": {},
   "outputs": [],
   "source": [
    "# Create OCPS with i calibration playlist\n",
    "biases = TTS_PLAYLISTS[\"bias\"]\n",
    "darks = TTS_PLAYLISTS[\"dark\"]\n",
    "flats = TTS_PLAYLISTS[\"flat\"]\n",
    "ack = await CCCamera.cmd_playlist.set_start(playlist=\"ocps_with_i.playlist\",\n",
    "                                            folder=biases.daq_folder,\n",
    "                                            images=\":\".join(biases.get_image_names() +\n",
    "                                                            darks.get_image_names() +\n",
    "                                                            flats.get_image_names()),\n",
    "                                            timeout=60)\n",
    "print(ack)"
   ]
  },
  {
   "cell_type": "code",
   "execution_count": null,
   "id": "e551e736-2a33-47b4-bd99-d91ab2a54062",
   "metadata": {},
   "outputs": [],
   "source": [
    "# Create OCPS with r calibration playlist\n",
    "biases = TTS_PLAYLISTS[\"bias2\"]\n",
    "darks = TTS_PLAYLISTS[\"dark2\"]\n",
    "flats = TTS_PLAYLISTS[\"flat2\"]\n",
    "ack = await CCCamera.cmd_playlist.set_start(playlist=\"ocps_with_r.playlist\",\n",
    "                                            folder=biases.daq_folder,\n",
    "                                            images=\":\".join(biases.get_image_names() +\n",
    "                                                            darks.get_image_names() +\n",
    "                                                            flats.get_image_names()),\n",
    "                                            timeout=60)\n",
    "print(ack)"
   ]
  },
  {
   "cell_type": "code",
   "execution_count": null,
   "id": "5b678078-1839-48bc-9574-c940ad534a68",
   "metadata": {},
   "outputs": [],
   "source": [
    "# Create corruption at NCSA playlist\n",
    "playlist = TTS_PLAYLISTS[\"corruption_ncsa\"]\n",
    "ack = await CCCamera.cmd_playlist.set_start(playlist=\"corruption_at_ncsa.playlist\",\n",
    "                                            folder=playlist.daq_folder,\n",
    "                                            images=playlist.get_image_names_as_string(),\n",
    "                                            timeout=60)\n",
    "print(ack)"
   ]
  },
  {
   "cell_type": "code",
   "execution_count": null,
   "id": "a9db0993-f0f5-45db-9338-aedc385cb756",
   "metadata": {},
   "outputs": [],
   "source": [
    "# Create CP PipeTask fail playlist\n",
    "playlist = TTS_PLAYLISTS[\"cp_pipetask_fail\"]\n",
    "ack = await CCCamera.cmd_playlist.set_start(playlist=\"cp_pipe_task_fail.playlist\",\n",
    "                                            folder=playlist.daq_folder,\n",
    "                                            images=playlist.get_image_names_as_string(),\n",
    "                                            timeout=60)\n",
    "print(ack)"
   ]
  },
  {
   "cell_type": "code",
   "execution_count": null,
   "id": "597772af-ac3c-49b8-a2b2-f2dd0647bab4",
   "metadata": {},
   "outputs": [],
   "source": [
    "# Create full calibrations set playlist\n",
    "playlist = TTS_PLAYLISTS[\"full_cals\"]\n",
    "ack = await CCCamera.cmd_playlist.set_start(playlist=\"full_calibrations_set.playlist\",\n",
    "                                            folder=playlist.daq_folder,\n",
    "                                            images=playlist.get_image_names_as_string(),\n",
    "                                            timeout=60)\n",
    "print(ack)"
   ]
  },
  {
   "cell_type": "code",
   "execution_count": null,
   "id": "9367bea4-538a-4a2e-a0de-13deeecb2e83",
   "metadata": {},
   "outputs": [],
   "source": [
    "# Create Tiago's AOS playlist\n",
    "playlist = TTS_PLAYLISTS[\"tiago\"]\n",
    "ack = await CCCamera.cmd_playlist.set_start(playlist=\"tiago-1.playlist\",\n",
    "                                            folder=playlist.daq_folder,\n",
    "                                            images=playlist.get_image_names_as_string(),\n",
    "                                            timeout=60)\n",
    "print(ack)"
   ]
  },
  {
   "cell_type": "code",
   "execution_count": null,
   "id": "3e110e84-48e4-4db2-827d-ef06275a0b09",
   "metadata": {},
   "outputs": [],
   "source": [
    "# Create AOS playlist\n",
    "playlist = TTS_PLAYLISTS[\"aos\"]\n",
    "ack = await CCCamera.cmd_playlist.set_start(playlist=\"aos-1.playlist\",\n",
    "                                            folder=playlist.daq_folder,\n",
    "                                            images=playlist.get_image_names_as_string(),\n",
    "                                            timeout=60)\n",
    "print(ack)"
   ]
  },
  {
   "cell_type": "code",
   "execution_count": null,
   "id": "cba609da-e08e-4584-bbff-266e6ae43a98",
   "metadata": {},
   "outputs": [],
   "source": []
  }
 ],
 "metadata": {
  "kernelspec": {
   "display_name": "LSST",
   "language": "python",
   "name": "lsst"
  },
  "language_info": {
   "codemirror_mode": {
    "name": "ipython",
    "version": 3
   },
   "file_extension": ".py",
   "mimetype": "text/x-python",
   "name": "python",
   "nbconvert_exporter": "python",
   "pygments_lexer": "ipython3",
   "version": "3.10.6"
  }
 },
 "nbformat": 4,
 "nbformat_minor": 5
}
